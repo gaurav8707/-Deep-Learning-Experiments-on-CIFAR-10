{
  "nbformat": 4,
  "nbformat_minor": 0,
  "metadata": {
    "colab": {
      "provenance": [],
      "gpuType": "T4"
    },
    "kernelspec": {
      "name": "python3",
      "display_name": "Python 3"
    },
    "language_info": {
      "name": "python"
    },
    "accelerator": "GPU"
  },
  "cells": [
    {
      "cell_type": "markdown",
      "source": [
        "# Deep Learning Experiments on CIFAR-10\n",
        "\n",
        "\n",
        "*   Name - Gaurav Sharan\n",
        "*   Registration Number - 20MIA1081\n",
        "\n",
        "\n",
        "\n",
        "\n",
        "\n"
      ],
      "metadata": {
        "id": "FDy-Sb7Aq0HZ"
      }
    },
    {
      "cell_type": "code",
      "execution_count": 1,
      "metadata": {
        "colab": {
          "base_uri": "https://localhost:8080/"
        },
        "id": "CRH64OGWE_rY",
        "outputId": "70036e28-5dd1-470f-9a9b-5c01fbb67a97"
      },
      "outputs": [
        {
          "output_type": "stream",
          "name": "stdout",
          "text": [
            "Requirement already satisfied: torch in /usr/local/lib/python3.11/dist-packages (2.5.1+cu124)\n",
            "Requirement already satisfied: torchvision in /usr/local/lib/python3.11/dist-packages (0.20.1+cu124)\n",
            "Requirement already satisfied: wandb in /usr/local/lib/python3.11/dist-packages (0.19.5)\n",
            "Requirement already satisfied: filelock in /usr/local/lib/python3.11/dist-packages (from torch) (3.17.0)\n",
            "Requirement already satisfied: typing-extensions>=4.8.0 in /usr/local/lib/python3.11/dist-packages (from torch) (4.12.2)\n",
            "Requirement already satisfied: networkx in /usr/local/lib/python3.11/dist-packages (from torch) (3.4.2)\n",
            "Requirement already satisfied: jinja2 in /usr/local/lib/python3.11/dist-packages (from torch) (3.1.5)\n",
            "Requirement already satisfied: fsspec in /usr/local/lib/python3.11/dist-packages (from torch) (2024.10.0)\n",
            "Collecting nvidia-cuda-nvrtc-cu12==12.4.127 (from torch)\n",
            "  Downloading nvidia_cuda_nvrtc_cu12-12.4.127-py3-none-manylinux2014_x86_64.whl.metadata (1.5 kB)\n",
            "Collecting nvidia-cuda-runtime-cu12==12.4.127 (from torch)\n",
            "  Downloading nvidia_cuda_runtime_cu12-12.4.127-py3-none-manylinux2014_x86_64.whl.metadata (1.5 kB)\n",
            "Collecting nvidia-cuda-cupti-cu12==12.4.127 (from torch)\n",
            "  Downloading nvidia_cuda_cupti_cu12-12.4.127-py3-none-manylinux2014_x86_64.whl.metadata (1.6 kB)\n",
            "Collecting nvidia-cudnn-cu12==9.1.0.70 (from torch)\n",
            "  Downloading nvidia_cudnn_cu12-9.1.0.70-py3-none-manylinux2014_x86_64.whl.metadata (1.6 kB)\n",
            "Collecting nvidia-cublas-cu12==12.4.5.8 (from torch)\n",
            "  Downloading nvidia_cublas_cu12-12.4.5.8-py3-none-manylinux2014_x86_64.whl.metadata (1.5 kB)\n",
            "Collecting nvidia-cufft-cu12==11.2.1.3 (from torch)\n",
            "  Downloading nvidia_cufft_cu12-11.2.1.3-py3-none-manylinux2014_x86_64.whl.metadata (1.5 kB)\n",
            "Collecting nvidia-curand-cu12==10.3.5.147 (from torch)\n",
            "  Downloading nvidia_curand_cu12-10.3.5.147-py3-none-manylinux2014_x86_64.whl.metadata (1.5 kB)\n",
            "Collecting nvidia-cusolver-cu12==11.6.1.9 (from torch)\n",
            "  Downloading nvidia_cusolver_cu12-11.6.1.9-py3-none-manylinux2014_x86_64.whl.metadata (1.6 kB)\n",
            "Collecting nvidia-cusparse-cu12==12.3.1.170 (from torch)\n",
            "  Downloading nvidia_cusparse_cu12-12.3.1.170-py3-none-manylinux2014_x86_64.whl.metadata (1.6 kB)\n",
            "Requirement already satisfied: nvidia-nccl-cu12==2.21.5 in /usr/local/lib/python3.11/dist-packages (from torch) (2.21.5)\n",
            "Requirement already satisfied: nvidia-nvtx-cu12==12.4.127 in /usr/local/lib/python3.11/dist-packages (from torch) (12.4.127)\n",
            "Collecting nvidia-nvjitlink-cu12==12.4.127 (from torch)\n",
            "  Downloading nvidia_nvjitlink_cu12-12.4.127-py3-none-manylinux2014_x86_64.whl.metadata (1.5 kB)\n",
            "Requirement already satisfied: triton==3.1.0 in /usr/local/lib/python3.11/dist-packages (from torch) (3.1.0)\n",
            "Requirement already satisfied: sympy==1.13.1 in /usr/local/lib/python3.11/dist-packages (from torch) (1.13.1)\n",
            "Requirement already satisfied: mpmath<1.4,>=1.1.0 in /usr/local/lib/python3.11/dist-packages (from sympy==1.13.1->torch) (1.3.0)\n",
            "Requirement already satisfied: numpy in /usr/local/lib/python3.11/dist-packages (from torchvision) (1.26.4)\n",
            "Requirement already satisfied: pillow!=8.3.*,>=5.3.0 in /usr/local/lib/python3.11/dist-packages (from torchvision) (11.1.0)\n",
            "Requirement already satisfied: click!=8.0.0,>=7.1 in /usr/local/lib/python3.11/dist-packages (from wandb) (8.1.8)\n",
            "Requirement already satisfied: docker-pycreds>=0.4.0 in /usr/local/lib/python3.11/dist-packages (from wandb) (0.4.0)\n",
            "Requirement already satisfied: gitpython!=3.1.29,>=1.0.0 in /usr/local/lib/python3.11/dist-packages (from wandb) (3.1.44)\n",
            "Requirement already satisfied: platformdirs in /usr/local/lib/python3.11/dist-packages (from wandb) (4.3.6)\n",
            "Requirement already satisfied: protobuf!=4.21.0,!=5.28.0,<6,>=3.19.0 in /usr/local/lib/python3.11/dist-packages (from wandb) (4.25.6)\n",
            "Requirement already satisfied: psutil>=5.0.0 in /usr/local/lib/python3.11/dist-packages (from wandb) (5.9.5)\n",
            "Requirement already satisfied: pydantic<3,>=2.6 in /usr/local/lib/python3.11/dist-packages (from wandb) (2.10.6)\n",
            "Requirement already satisfied: pyyaml in /usr/local/lib/python3.11/dist-packages (from wandb) (6.0.2)\n",
            "Requirement already satisfied: requests<3,>=2.0.0 in /usr/local/lib/python3.11/dist-packages (from wandb) (2.32.3)\n",
            "Requirement already satisfied: sentry-sdk>=2.0.0 in /usr/local/lib/python3.11/dist-packages (from wandb) (2.20.0)\n",
            "Requirement already satisfied: setproctitle in /usr/local/lib/python3.11/dist-packages (from wandb) (1.3.4)\n",
            "Requirement already satisfied: setuptools in /usr/local/lib/python3.11/dist-packages (from wandb) (75.1.0)\n",
            "Requirement already satisfied: six>=1.4.0 in /usr/local/lib/python3.11/dist-packages (from docker-pycreds>=0.4.0->wandb) (1.17.0)\n",
            "Requirement already satisfied: gitdb<5,>=4.0.1 in /usr/local/lib/python3.11/dist-packages (from gitpython!=3.1.29,>=1.0.0->wandb) (4.0.12)\n",
            "Requirement already satisfied: annotated-types>=0.6.0 in /usr/local/lib/python3.11/dist-packages (from pydantic<3,>=2.6->wandb) (0.7.0)\n",
            "Requirement already satisfied: pydantic-core==2.27.2 in /usr/local/lib/python3.11/dist-packages (from pydantic<3,>=2.6->wandb) (2.27.2)\n",
            "Requirement already satisfied: charset-normalizer<4,>=2 in /usr/local/lib/python3.11/dist-packages (from requests<3,>=2.0.0->wandb) (3.4.1)\n",
            "Requirement already satisfied: idna<4,>=2.5 in /usr/local/lib/python3.11/dist-packages (from requests<3,>=2.0.0->wandb) (3.10)\n",
            "Requirement already satisfied: urllib3<3,>=1.21.1 in /usr/local/lib/python3.11/dist-packages (from requests<3,>=2.0.0->wandb) (2.3.0)\n",
            "Requirement already satisfied: certifi>=2017.4.17 in /usr/local/lib/python3.11/dist-packages (from requests<3,>=2.0.0->wandb) (2024.12.14)\n",
            "Requirement already satisfied: MarkupSafe>=2.0 in /usr/local/lib/python3.11/dist-packages (from jinja2->torch) (3.0.2)\n",
            "Requirement already satisfied: smmap<6,>=3.0.1 in /usr/local/lib/python3.11/dist-packages (from gitdb<5,>=4.0.1->gitpython!=3.1.29,>=1.0.0->wandb) (5.0.2)\n",
            "Downloading nvidia_cublas_cu12-12.4.5.8-py3-none-manylinux2014_x86_64.whl (363.4 MB)\n",
            "\u001b[2K   \u001b[90m━━━━━━━━━━━━━━━━━━━━━━━━━━━━━━━━━━━━━━━━\u001b[0m \u001b[32m363.4/363.4 MB\u001b[0m \u001b[31m4.7 MB/s\u001b[0m eta \u001b[36m0:00:00\u001b[0m\n",
            "\u001b[?25hDownloading nvidia_cuda_cupti_cu12-12.4.127-py3-none-manylinux2014_x86_64.whl (13.8 MB)\n",
            "\u001b[2K   \u001b[90m━━━━━━━━━━━━━━━━━━━━━━━━━━━━━━━━━━━━━━━━\u001b[0m \u001b[32m13.8/13.8 MB\u001b[0m \u001b[31m55.7 MB/s\u001b[0m eta \u001b[36m0:00:00\u001b[0m\n",
            "\u001b[?25hDownloading nvidia_cuda_nvrtc_cu12-12.4.127-py3-none-manylinux2014_x86_64.whl (24.6 MB)\n",
            "\u001b[2K   \u001b[90m━━━━━━━━━━━━━━━━━━━━━━━━━━━━━━━━━━━━━━━━\u001b[0m \u001b[32m24.6/24.6 MB\u001b[0m \u001b[31m52.2 MB/s\u001b[0m eta \u001b[36m0:00:00\u001b[0m\n",
            "\u001b[?25hDownloading nvidia_cuda_runtime_cu12-12.4.127-py3-none-manylinux2014_x86_64.whl (883 kB)\n",
            "\u001b[2K   \u001b[90m━━━━━━━━━━━━━━━━━━━━━━━━━━━━━━━━━━━━━━━━\u001b[0m \u001b[32m883.7/883.7 kB\u001b[0m \u001b[31m41.8 MB/s\u001b[0m eta \u001b[36m0:00:00\u001b[0m\n",
            "\u001b[?25hDownloading nvidia_cudnn_cu12-9.1.0.70-py3-none-manylinux2014_x86_64.whl (664.8 MB)\n",
            "\u001b[2K   \u001b[90m━━━━━━━━━━━━━━━━━━━━━━━━━━━━━━━━━━━━━━━━\u001b[0m \u001b[32m664.8/664.8 MB\u001b[0m \u001b[31m2.7 MB/s\u001b[0m eta \u001b[36m0:00:00\u001b[0m\n",
            "\u001b[?25hDownloading nvidia_cufft_cu12-11.2.1.3-py3-none-manylinux2014_x86_64.whl (211.5 MB)\n",
            "\u001b[2K   \u001b[90m━━━━━━━━━━━━━━━━━━━━━━━━━━━━━━━━━━━━━━━━\u001b[0m \u001b[32m211.5/211.5 MB\u001b[0m \u001b[31m2.3 MB/s\u001b[0m eta \u001b[36m0:00:00\u001b[0m\n",
            "\u001b[?25hDownloading nvidia_curand_cu12-10.3.5.147-py3-none-manylinux2014_x86_64.whl (56.3 MB)\n",
            "\u001b[2K   \u001b[90m━━━━━━━━━━━━━━━━━━━━━━━━━━━━━━━━━━━━━━━━\u001b[0m \u001b[32m56.3/56.3 MB\u001b[0m \u001b[31m9.4 MB/s\u001b[0m eta \u001b[36m0:00:00\u001b[0m\n",
            "\u001b[?25hDownloading nvidia_cusolver_cu12-11.6.1.9-py3-none-manylinux2014_x86_64.whl (127.9 MB)\n",
            "\u001b[2K   \u001b[90m━━━━━━━━━━━━━━━━━━━━━━━━━━━━━━━━━━━━━━━━\u001b[0m \u001b[32m127.9/127.9 MB\u001b[0m \u001b[31m6.0 MB/s\u001b[0m eta \u001b[36m0:00:00\u001b[0m\n",
            "\u001b[?25hDownloading nvidia_cusparse_cu12-12.3.1.170-py3-none-manylinux2014_x86_64.whl (207.5 MB)\n",
            "\u001b[2K   \u001b[90m━━━━━━━━━━━━━━━━━━━━━━━━━━━━━━━━━━━━━━━━\u001b[0m \u001b[32m207.5/207.5 MB\u001b[0m \u001b[31m6.0 MB/s\u001b[0m eta \u001b[36m0:00:00\u001b[0m\n",
            "\u001b[?25hDownloading nvidia_nvjitlink_cu12-12.4.127-py3-none-manylinux2014_x86_64.whl (21.1 MB)\n",
            "\u001b[2K   \u001b[90m━━━━━━━━━━━━━━━━━━━━━━━━━━━━━━━━━━━━━━━━\u001b[0m \u001b[32m21.1/21.1 MB\u001b[0m \u001b[31m66.4 MB/s\u001b[0m eta \u001b[36m0:00:00\u001b[0m\n",
            "\u001b[?25hInstalling collected packages: nvidia-nvjitlink-cu12, nvidia-curand-cu12, nvidia-cufft-cu12, nvidia-cuda-runtime-cu12, nvidia-cuda-nvrtc-cu12, nvidia-cuda-cupti-cu12, nvidia-cublas-cu12, nvidia-cusparse-cu12, nvidia-cudnn-cu12, nvidia-cusolver-cu12\n",
            "  Attempting uninstall: nvidia-nvjitlink-cu12\n",
            "    Found existing installation: nvidia-nvjitlink-cu12 12.5.82\n",
            "    Uninstalling nvidia-nvjitlink-cu12-12.5.82:\n",
            "      Successfully uninstalled nvidia-nvjitlink-cu12-12.5.82\n",
            "  Attempting uninstall: nvidia-curand-cu12\n",
            "    Found existing installation: nvidia-curand-cu12 10.3.6.82\n",
            "    Uninstalling nvidia-curand-cu12-10.3.6.82:\n",
            "      Successfully uninstalled nvidia-curand-cu12-10.3.6.82\n",
            "  Attempting uninstall: nvidia-cufft-cu12\n",
            "    Found existing installation: nvidia-cufft-cu12 11.2.3.61\n",
            "    Uninstalling nvidia-cufft-cu12-11.2.3.61:\n",
            "      Successfully uninstalled nvidia-cufft-cu12-11.2.3.61\n",
            "  Attempting uninstall: nvidia-cuda-runtime-cu12\n",
            "    Found existing installation: nvidia-cuda-runtime-cu12 12.5.82\n",
            "    Uninstalling nvidia-cuda-runtime-cu12-12.5.82:\n",
            "      Successfully uninstalled nvidia-cuda-runtime-cu12-12.5.82\n",
            "  Attempting uninstall: nvidia-cuda-nvrtc-cu12\n",
            "    Found existing installation: nvidia-cuda-nvrtc-cu12 12.5.82\n",
            "    Uninstalling nvidia-cuda-nvrtc-cu12-12.5.82:\n",
            "      Successfully uninstalled nvidia-cuda-nvrtc-cu12-12.5.82\n",
            "  Attempting uninstall: nvidia-cuda-cupti-cu12\n",
            "    Found existing installation: nvidia-cuda-cupti-cu12 12.5.82\n",
            "    Uninstalling nvidia-cuda-cupti-cu12-12.5.82:\n",
            "      Successfully uninstalled nvidia-cuda-cupti-cu12-12.5.82\n",
            "  Attempting uninstall: nvidia-cublas-cu12\n",
            "    Found existing installation: nvidia-cublas-cu12 12.5.3.2\n",
            "    Uninstalling nvidia-cublas-cu12-12.5.3.2:\n",
            "      Successfully uninstalled nvidia-cublas-cu12-12.5.3.2\n",
            "  Attempting uninstall: nvidia-cusparse-cu12\n",
            "    Found existing installation: nvidia-cusparse-cu12 12.5.1.3\n",
            "    Uninstalling nvidia-cusparse-cu12-12.5.1.3:\n",
            "      Successfully uninstalled nvidia-cusparse-cu12-12.5.1.3\n",
            "  Attempting uninstall: nvidia-cudnn-cu12\n",
            "    Found existing installation: nvidia-cudnn-cu12 9.3.0.75\n",
            "    Uninstalling nvidia-cudnn-cu12-9.3.0.75:\n",
            "      Successfully uninstalled nvidia-cudnn-cu12-9.3.0.75\n",
            "  Attempting uninstall: nvidia-cusolver-cu12\n",
            "    Found existing installation: nvidia-cusolver-cu12 11.6.3.83\n",
            "    Uninstalling nvidia-cusolver-cu12-11.6.3.83:\n",
            "      Successfully uninstalled nvidia-cusolver-cu12-11.6.3.83\n",
            "Successfully installed nvidia-cublas-cu12-12.4.5.8 nvidia-cuda-cupti-cu12-12.4.127 nvidia-cuda-nvrtc-cu12-12.4.127 nvidia-cuda-runtime-cu12-12.4.127 nvidia-cudnn-cu12-9.1.0.70 nvidia-cufft-cu12-11.2.1.3 nvidia-curand-cu12-10.3.5.147 nvidia-cusolver-cu12-11.6.1.9 nvidia-cusparse-cu12-12.3.1.170 nvidia-nvjitlink-cu12-12.4.127\n"
          ]
        }
      ],
      "source": [
        "!pip install torch torchvision wandb\n"
      ]
    },
    {
      "cell_type": "code",
      "source": [
        "import torch\n",
        "import torch.nn as nn\n",
        "import torch.nn.functional as F  # For activation functions\n",
        "import torch.optim as optim\n",
        "import torchvision\n",
        "import torchvision.transforms as transforms\n",
        "import wandb\n",
        "import time\n",
        "import matplotlib.pyplot as plt\n",
        "\n",
        "\n",
        "device = torch.device(\"cuda\" if torch.cuda.is_available() else \"cpu\")\n",
        "print(f\"Using device: {device}\")\n",
        "\n",
        "# Log in to Weights & Biases\n",
        "wandb.login()\n"
      ],
      "metadata": {
        "colab": {
          "base_uri": "https://localhost:8080/",
          "height": 191
        },
        "id": "M9qwx-kTFZ_3",
        "outputId": "401f663f-5e6f-41bc-fb31-fbb130edc855"
      },
      "execution_count": 3,
      "outputs": [
        {
          "output_type": "stream",
          "name": "stdout",
          "text": [
            "Using device: cuda\n"
          ]
        },
        {
          "output_type": "display_data",
          "data": {
            "text/plain": [
              "<IPython.core.display.Javascript object>"
            ],
            "application/javascript": [
              "\n",
              "        window._wandbApiKey = new Promise((resolve, reject) => {\n",
              "            function loadScript(url) {\n",
              "            return new Promise(function(resolve, reject) {\n",
              "                let newScript = document.createElement(\"script\");\n",
              "                newScript.onerror = reject;\n",
              "                newScript.onload = resolve;\n",
              "                document.body.appendChild(newScript);\n",
              "                newScript.src = url;\n",
              "            });\n",
              "            }\n",
              "            loadScript(\"https://cdn.jsdelivr.net/npm/postmate/build/postmate.min.js\").then(() => {\n",
              "            const iframe = document.createElement('iframe')\n",
              "            iframe.style.cssText = \"width:0;height:0;border:none\"\n",
              "            document.body.appendChild(iframe)\n",
              "            const handshake = new Postmate({\n",
              "                container: iframe,\n",
              "                url: 'https://wandb.ai/authorize'\n",
              "            });\n",
              "            const timeout = setTimeout(() => reject(\"Couldn't auto authenticate\"), 5000)\n",
              "            handshake.then(function(child) {\n",
              "                child.on('authorize', data => {\n",
              "                    clearTimeout(timeout)\n",
              "                    resolve(data)\n",
              "                });\n",
              "            });\n",
              "            })\n",
              "        });\n",
              "    "
            ]
          },
          "metadata": {}
        },
        {
          "output_type": "stream",
          "name": "stderr",
          "text": [
            "\u001b[34m\u001b[1mwandb\u001b[0m: Logging into wandb.ai. (Learn how to deploy a W&B server locally: https://wandb.me/wandb-server)\n",
            "\u001b[34m\u001b[1mwandb\u001b[0m: You can find your API key in your browser here: https://wandb.ai/authorize\n",
            "wandb: Paste an API key from your profile and hit enter, or press ctrl+c to quit:"
          ]
        },
        {
          "name": "stdout",
          "output_type": "stream",
          "text": [
            " ··········\n"
          ]
        },
        {
          "output_type": "stream",
          "name": "stderr",
          "text": [
            "\u001b[34m\u001b[1mwandb\u001b[0m: \u001b[33mWARNING\u001b[0m If you're specifying your api key in code, ensure this code is not shared publicly.\n",
            "\u001b[34m\u001b[1mwandb\u001b[0m: \u001b[33mWARNING\u001b[0m Consider setting the WANDB_API_KEY environment variable, or running `wandb login` from the command line.\n",
            "\u001b[34m\u001b[1mwandb\u001b[0m: Appending key for api.wandb.ai to your netrc file: /root/.netrc\n",
            "\u001b[34m\u001b[1mwandb\u001b[0m: Currently logged in as: \u001b[33mg22168559\u001b[0m (\u001b[33mg22168559-vellore-institute-of-technology\u001b[0m) to \u001b[32mhttps://api.wandb.ai\u001b[0m. Use \u001b[1m`wandb login --relogin`\u001b[0m to force relogin\n"
          ]
        },
        {
          "output_type": "execute_result",
          "data": {
            "text/plain": [
              "True"
            ]
          },
          "metadata": {},
          "execution_count": 3
        }
      ]
    },
    {
      "cell_type": "code",
      "source": [
        "class BasicBlock(nn.Module):\n",
        "    expansion = 1  # For basic block the expansion factor is 1\n",
        "\n",
        "    def __init__(self, in_planes, planes, stride=1):\n",
        "        \"\"\"\n",
        "        A basic residual block for ResNet‑32.\n",
        "        Args:\n",
        "          in_planes: Number of input channels.\n",
        "          planes: Number of output channels.\n",
        "          stride: Stride for the first convolution.\n",
        "        \"\"\"\n",
        "        super(BasicBlock, self).__init__()\n",
        "        self.conv1 = nn.Conv2d(in_planes, planes, kernel_size=3, stride=stride,\n",
        "                               padding=1, bias=False)\n",
        "        self.bn1 = nn.BatchNorm2d(planes)\n",
        "        self.conv2 = nn.Conv2d(planes, planes, kernel_size=3, stride=1,\n",
        "                               padding=1, bias=False)\n",
        "        self.bn2 = nn.BatchNorm2d(planes)\n",
        "        # Define the shortcut connection\n",
        "        self.shortcut = nn.Sequential()\n",
        "        if stride != 1 or in_planes != planes:\n",
        "            self.shortcut = nn.Sequential(\n",
        "                nn.Conv2d(in_planes, planes, kernel_size=1, stride=stride, bias=False),\n",
        "                nn.BatchNorm2d(planes)\n",
        "            )\n",
        "\n",
        "    def forward(self, x):\n",
        "        out = F.relu(self.bn1(self.conv1(x)))\n",
        "        out = self.bn2(self.conv2(out))\n",
        "        out += self.shortcut(x)\n",
        "        out = F.relu(out)\n",
        "        return out\n",
        "\n",
        "class ResNet32(nn.Module):\n",
        "    def __init__(self, block, num_blocks, num_classes=10):\n",
        "        \"\"\"\n",
        "        Constructs a ResNet‑32 model for CIFAR‑10.\n",
        "        Args:\n",
        "          block: Block type (BasicBlock).\n",
        "          num_blocks: A list specifying how many blocks each layer should have (for ResNet-32, this would be [5, 5, 5]).\n",
        "          num_classes: Number of output classes (10 for CIFAR‑10).\n",
        "        \"\"\"\n",
        "        super(ResNet32, self).__init__()\n",
        "        self.in_planes = 16\n",
        "\n",
        "        # Initial convolution layer (3×3 conv for CIFAR‑10)\n",
        "        self.conv1 = nn.Conv2d(3, 16, kernel_size=3, stride=1, padding=1, bias=False)\n",
        "        self.bn1 = nn.BatchNorm2d(16)\n",
        "\n",
        "        # Creating three layers (groups) of residual blocks\n",
        "        self.layer1 = self._make_layer(block, 16, num_blocks[0], stride=1)\n",
        "        self.layer2 = self._make_layer(block, 32, num_blocks[1], stride=2)\n",
        "        self.layer3 = self._make_layer(block, 64, num_blocks[2], stride=2)\n",
        "\n",
        "        # Global average pooling and final fully connected layer\n",
        "        self.linear = nn.Linear(64, num_classes)\n",
        "\n",
        "    def _make_layer(self, block, planes, num_blocks, stride):\n",
        "        \"\"\"\n",
        "        Creates one group (layer) of residual blocks.\n",
        "        \"\"\"\n",
        "        strides = [stride] + [1]*(num_blocks - 1)\n",
        "        layers = []\n",
        "        for stride in strides:\n",
        "            layers.append(block(self.in_planes, planes, stride))\n",
        "            self.in_planes = planes * block.expansion\n",
        "        return nn.Sequential(*layers)\n",
        "\n",
        "    def forward(self, x):\n",
        "        out = F.relu(self.bn1(self.conv1(x)))\n",
        "        out = self.layer1(out)\n",
        "        out = self.layer2(out)\n",
        "        out = self.layer3(out)\n",
        "        # Global average pooling over spatial dimensions\n",
        "        out = F.avg_pool2d(out, out.size(3))\n",
        "        out = out.view(out.size(0), -1)\n",
        "        out = self.linear(out)\n",
        "        return out\n",
        "\n",
        "def get_resnet32_for_cifar10():\n",
        "    \"\"\"\n",
        "    Instantiates a ResNet‑32 model for CIFAR‑10.\n",
        "    For ResNet‑32, we use 5 residual blocks per layer: [5, 5, 5].\n",
        "    Returns:\n",
        "      model (nn.Module): A ResNet‑32 model.\n",
        "    \"\"\"\n",
        "    return ResNet32(BasicBlock, [5, 5, 5], num_classes=10)\n"
      ],
      "metadata": {
        "id": "TOzS8HK4Fzdn"
      },
      "execution_count": 4,
      "outputs": []
    },
    {
      "cell_type": "code",
      "source": [
        "def train_one_epoch(model, optimizer, criterion, train_loader, device):\n",
        "    \"\"\"\n",
        "    Trains the model for one epoch.\n",
        "\n",
        "    Args:\n",
        "      model (nn.Module): Model to train.\n",
        "      optimizer: Optimizer.\n",
        "      criterion: Loss function.\n",
        "      train_loader (DataLoader): Training data loader.\n",
        "      device: CPU or GPU.\n",
        "\n",
        "    Returns:\n",
        "      epoch_loss (float): Average training loss.\n",
        "      epoch_acc (float): Training accuracy.\n",
        "    \"\"\"\n",
        "    model.train()\n",
        "    running_loss = 0.0\n",
        "    total = 0\n",
        "    correct = 0\n",
        "\n",
        "    for inputs, targets in train_loader:\n",
        "        inputs, targets = inputs.to(device), targets.to(device)\n",
        "        optimizer.zero_grad()\n",
        "        outputs = model(inputs)\n",
        "        loss = criterion(outputs, targets)\n",
        "        loss.backward()\n",
        "        optimizer.step()\n",
        "\n",
        "        running_loss += loss.item() * inputs.size(0)\n",
        "        _, predicted = outputs.max(1)\n",
        "        total += targets.size(0)\n",
        "        correct += predicted.eq(targets).sum().item()\n",
        "\n",
        "    epoch_loss = running_loss / total\n",
        "    epoch_acc = correct / total\n",
        "    return epoch_loss, epoch_acc\n",
        "\n",
        "def validate(model, criterion, loader, device):\n",
        "    \"\"\"\n",
        "    Evaluates the model on a validation/test set.\n",
        "\n",
        "    Args:\n",
        "      model (nn.Module): Model to evaluate.\n",
        "      criterion: Loss function.\n",
        "      loader (DataLoader): Validation/test data loader.\n",
        "      device: CPU or GPU.\n",
        "\n",
        "    Returns:\n",
        "      epoch_loss (float): Average loss.\n",
        "      epoch_acc (float): Accuracy.\n",
        "    \"\"\"\n",
        "    model.eval()\n",
        "    running_loss = 0.0\n",
        "    total = 0\n",
        "    correct = 0\n",
        "\n",
        "    with torch.no_grad():\n",
        "        for inputs, targets in loader:\n",
        "            inputs, targets = inputs.to(device), targets.to(device)\n",
        "            outputs = model(inputs)\n",
        "            loss = criterion(outputs, targets)\n",
        "\n",
        "            running_loss += loss.item() * inputs.size(0)\n",
        "            _, predicted = outputs.max(1)\n",
        "            total += targets.size(0)\n",
        "            correct += predicted.eq(targets).sum().item()\n",
        "\n",
        "    epoch_loss = running_loss / total\n",
        "    epoch_acc = correct / total\n",
        "    return epoch_loss, epoch_acc\n"
      ],
      "metadata": {
        "id": "ij6DUPIMF8HX"
      },
      "execution_count": 4,
      "outputs": []
    },
    {
      "cell_type": "code",
      "source": [
        "def run_experiment(config=None):\n",
        "    \"\"\"\n",
        "    Runs a single experiment with the given hyperparameters.\n",
        "    - Each experiment gets logged as a separate run on W&B.\n",
        "    - Checkpoints are saved at the end of each epoch with unique filenames and uploaded.\n",
        "    - Optionally, a MultiStepLR scheduler can be used if specified.\n",
        "\n",
        "    Args:\n",
        "      config (dict): A dictionary containing the hyperparameters for the experiment.\n",
        "\n",
        "    Returns:\n",
        "      model (nn.Module): The trained model after the experiment.\n",
        "      test_loader (DataLoader): The DataLoader for the test dataset, ready for evaluation.\n",
        "    \"\"\"\n",
        "    with wandb.init(project=\"cifar10_classification_Data_science_assignment_Tata_communication\", config=config) as run:\n",
        "        config = wandb.config\n",
        "\n",
        "        # Data transformations for training and testing\n",
        "        transform_train = transforms.Compose([\n",
        "            transforms.RandomCrop(32, padding=4),\n",
        "            transforms.RandomHorizontalFlip(),\n",
        "            transforms.ToTensor(),\n",
        "            transforms.Normalize((0.4914, 0.4822, 0.4465), (0.247, 0.243, 0.261))\n",
        "        ])\n",
        "        transform_test = transforms.Compose([\n",
        "            transforms.ToTensor(),\n",
        "            transforms.Normalize((0.4914, 0.4822, 0.4465), (0.247, 0.243, 0.261))\n",
        "        ])\n",
        "\n",
        "        # Download CIFAR-10 dataset\n",
        "        train_dataset = torchvision.datasets.CIFAR10(root='./data', train=True, download=True, transform=transform_train)\n",
        "        test_dataset  = torchvision.datasets.CIFAR10(root='./data', train=False, download=True, transform=transform_test)\n",
        "\n",
        "        # Create a train/validation split (80% train, 20% validation)\n",
        "        num_train = int(0.8 * len(train_dataset))\n",
        "        num_val = len(train_dataset) - num_train\n",
        "        train_subset, val_subset = torch.utils.data.random_split(train_dataset, [num_train, num_val])\n",
        "\n",
        "        train_loader = torch.utils.data.DataLoader(train_subset, batch_size=config.batch_size, shuffle=True, num_workers=2)\n",
        "        val_loader   = torch.utils.data.DataLoader(val_subset, batch_size=config.batch_size, shuffle=False, num_workers=2)\n",
        "        test_loader  = torch.utils.data.DataLoader(test_dataset, batch_size=config.batch_size, shuffle=False, num_workers=2)\n",
        "\n",
        "        # Initialize the ResNet-32 model for CIFAR-10\n",
        "        model = get_resnet32_for_cifar10().to(device)\n",
        "\n",
        "        # Define the loss function\n",
        "        criterion = nn.CrossEntropyLoss()\n",
        "\n",
        "        # Select the optimizer based on configuration\n",
        "        if config.optimizer.lower() == \"sgd\":\n",
        "            optimizer = optim.SGD(model.parameters(), lr=config.learning_rate, momentum=0.9, weight_decay=5e-4)\n",
        "        elif config.optimizer.lower() == \"adam\":\n",
        "            optimizer = optim.Adam(model.parameters(), lr=config.learning_rate, weight_decay=5e-4)\n",
        "        else:\n",
        "            raise ValueError(\"Unsupported optimizer type. Please choose 'sgd' or 'adam'.\")\n",
        "\n",
        "        # Optionally, set up a learning rate scheduler\n",
        "        scheduler = None\n",
        "        if hasattr(config, \"use_scheduler\") and config.use_scheduler:\n",
        "            # Decay learning rate at 50% and 75% of total epochs\n",
        "            milestones = [int(config.epochs * 0.5), int(config.epochs * 0.75)]\n",
        "            scheduler = torch.optim.lr_scheduler.MultiStepLR(optimizer, milestones=milestones, gamma=0.1)\n",
        "\n",
        "        best_val_acc = 0.0  # To track the best validation accuracy\n",
        "\n",
        "        # Training loop for the specified number of epochs\n",
        "        for epoch in range(config.epochs):\n",
        "            train_loss, train_acc = train_one_epoch(model, optimizer, criterion, train_loader, device)\n",
        "            val_loss, val_acc = validate(model, criterion, val_loader, device)\n",
        "\n",
        "            # Log metrics to W&B for the current epoch\n",
        "            wandb.log({\n",
        "                \"epoch\": epoch + 1,\n",
        "                \"train_loss\": train_loss,\n",
        "                \"train_acc\": train_acc,\n",
        "                \"val_loss\": val_loss,\n",
        "                \"val_acc\": val_acc,\n",
        "                \"learning_rate\": optimizer.param_groups[0]['lr'],\n",
        "                \"optimizer\": config.optimizer\n",
        "            })\n",
        "\n",
        "            print(f\"Epoch [{epoch+1}/{config.epochs}] | Train Loss: {train_loss:.4f} | Train Acc: {train_acc:.4f} | Val Loss: {val_loss:.4f} | Val Acc: {val_acc:.4f}\")\n",
        "\n",
        "            # Save every epoch's checkpoint with a unique filename\n",
        "            checkpoint_filename = f\"{wandb.run.id}_epoch_{epoch+1}_{int(time.time())}.pth\"\n",
        "            torch.save(model.state_dict(), checkpoint_filename)\n",
        "            wandb.save(checkpoint_filename)\n",
        "\n",
        "            # Optionally, save the best model checkpoint separately if validation accuracy improves\n",
        "            if val_acc > best_val_acc:\n",
        "                best_val_acc = val_acc\n",
        "                best_checkpoint = f\"{wandb.run.id}_best_epoch_{epoch+1}_{int(time.time())}.pth\"\n",
        "                torch.save(model.state_dict(), best_checkpoint)\n",
        "                wandb.save(best_checkpoint)\n",
        "\n",
        "            # Step the learning rate scheduler, if used\n",
        "            if scheduler is not None:\n",
        "                scheduler.step()\n",
        "\n",
        "        # After training, evaluate the model on the test set\n",
        "        test_loss, test_acc = validate(model, criterion, test_loader, device)\n",
        "        wandb.log({\"test_loss\": test_loss, \"test_acc\": test_acc})\n",
        "        print(f\"Test Loss: {test_loss:.4f} | Test Acc: {test_acc:.4f}\")\n",
        "\n",
        "        # Return the trained model and test_loader for further analysis if needed\n",
        "        return model, test_loader\n"
      ],
      "metadata": {
        "id": "TTKIVf6xGFdb"
      },
      "execution_count": 5,
      "outputs": []
    },
    {
      "cell_type": "code",
      "source": [
        "# Define six hyperparameter configurations\n",
        "experiment_configs = [\n",
        "\n",
        "    {\"epochs\": 10, \"batch_size\": 128, \"learning_rate\": 0.001, \"optimizer\": \"adam\"},\n",
        "    {\"epochs\": 10, \"batch_size\": 128, \"learning_rate\": 0.5, \"optimizer\": \"adam\"},\n",
        "    {\"epochs\": 15, \"batch_size\": 128, \"learning_rate\": 0.0001, \"optimizer\": \"adam\"},\n",
        "    {\"epochs\": 10, \"batch_size\": 128, \"learning_rate\": 0.001, \"optimizer\": \"sgd\"},\n",
        "    {\"epochs\": 20, \"batch_size\": 128, \"learning_rate\": 0.0005, \"optimizer\": \"sgd\"},\n",
        "    {\"epochs\": 105, \"batch_size\": 128, \"learning_rate\": 0.1, \"optimizer\": \"sgd\", \"use_scheduler\": True}\n",
        "]\n",
        "\n",
        "# Run each experiment sequentially\n",
        "for config in experiment_configs:\n",
        "    print(\"\\nStarting experiment with configuration:\")\n",
        "    print(config)\n",
        "    run_experiment(config)\n"
      ],
      "metadata": {
        "colab": {
          "base_uri": "https://localhost:8080/",
          "height": 1000
        },
        "id": "tjg4UvbXGL_m",
        "outputId": "ef0851b6-adf2-413f-9817-11d88f9b2641"
      },
      "execution_count": 6,
      "outputs": [
        {
          "output_type": "stream",
          "name": "stdout",
          "text": [
            "\n",
            "Starting experiment with configuration:\n",
            "{'epochs': 10, 'batch_size': 128, 'learning_rate': 0.001, 'optimizer': 'adam'}\n"
          ]
        },
        {
          "output_type": "stream",
          "name": "stderr",
          "text": [
            "\u001b[34m\u001b[1mwandb\u001b[0m: Using wandb-core as the SDK backend.  Please refer to https://wandb.me/wandb-core for more information.\n"
          ]
        },
        {
          "output_type": "display_data",
          "data": {
            "text/plain": [
              "<IPython.core.display.HTML object>"
            ],
            "text/html": [
              "Tracking run with wandb version 0.19.5"
            ]
          },
          "metadata": {}
        },
        {
          "output_type": "display_data",
          "data": {
            "text/plain": [
              "<IPython.core.display.HTML object>"
            ],
            "text/html": [
              "Run data is saved locally in <code>/content/wandb/run-20250202_051942-xeb29tvy</code>"
            ]
          },
          "metadata": {}
        },
        {
          "output_type": "display_data",
          "data": {
            "text/plain": [
              "<IPython.core.display.HTML object>"
            ],
            "text/html": [
              "Syncing run <strong><a href='https://wandb.ai/g22168559-vellore-institute-of-technology/cifar10_classification_Data_science_assignment_Tata_communication/runs/xeb29tvy' target=\"_blank\">restful-river-1</a></strong> to <a href='https://wandb.ai/g22168559-vellore-institute-of-technology/cifar10_classification_Data_science_assignment_Tata_communication' target=\"_blank\">Weights & Biases</a> (<a href='https://wandb.me/developer-guide' target=\"_blank\">docs</a>)<br>"
            ]
          },
          "metadata": {}
        },
        {
          "output_type": "display_data",
          "data": {
            "text/plain": [
              "<IPython.core.display.HTML object>"
            ],
            "text/html": [
              " View project at <a href='https://wandb.ai/g22168559-vellore-institute-of-technology/cifar10_classification_Data_science_assignment_Tata_communication' target=\"_blank\">https://wandb.ai/g22168559-vellore-institute-of-technology/cifar10_classification_Data_science_assignment_Tata_communication</a>"
            ]
          },
          "metadata": {}
        },
        {
          "output_type": "display_data",
          "data": {
            "text/plain": [
              "<IPython.core.display.HTML object>"
            ],
            "text/html": [
              " View run at <a href='https://wandb.ai/g22168559-vellore-institute-of-technology/cifar10_classification_Data_science_assignment_Tata_communication/runs/xeb29tvy' target=\"_blank\">https://wandb.ai/g22168559-vellore-institute-of-technology/cifar10_classification_Data_science_assignment_Tata_communication/runs/xeb29tvy</a>"
            ]
          },
          "metadata": {}
        },
        {
          "output_type": "stream",
          "name": "stdout",
          "text": [
            "Downloading https://www.cs.toronto.edu/~kriz/cifar-10-python.tar.gz to ./data/cifar-10-python.tar.gz\n"
          ]
        },
        {
          "output_type": "stream",
          "name": "stderr",
          "text": [
            "100%|██████████| 170M/170M [00:03<00:00, 44.8MB/s]\n"
          ]
        },
        {
          "output_type": "stream",
          "name": "stdout",
          "text": [
            "Extracting ./data/cifar-10-python.tar.gz to ./data\n",
            "Files already downloaded and verified\n",
            "Epoch [1/10] | Train Loss: 1.5607 | Train Acc: 0.4196 | Val Loss: 1.3287 | Val Acc: 0.5241\n",
            "Epoch [2/10] | Train Loss: 1.1281 | Train Acc: 0.5965 | Val Loss: 1.1918 | Val Acc: 0.5735\n",
            "Epoch [3/10] | Train Loss: 0.9390 | Train Acc: 0.6670 | Val Loss: 0.9930 | Val Acc: 0.6483\n",
            "Epoch [4/10] | Train Loss: 0.8159 | Train Acc: 0.7138 | Val Loss: 1.0505 | Val Acc: 0.6488\n",
            "Epoch [5/10] | Train Loss: 0.7365 | Train Acc: 0.7419 | Val Loss: 0.8432 | Val Acc: 0.7074\n",
            "Epoch [6/10] | Train Loss: 0.6712 | Train Acc: 0.7670 | Val Loss: 0.7309 | Val Acc: 0.7475\n",
            "Epoch [7/10] | Train Loss: 0.6288 | Train Acc: 0.7812 | Val Loss: 0.7598 | Val Acc: 0.7365\n",
            "Epoch [8/10] | Train Loss: 0.5941 | Train Acc: 0.7937 | Val Loss: 0.6918 | Val Acc: 0.7633\n",
            "Epoch [9/10] | Train Loss: 0.5747 | Train Acc: 0.8022 | Val Loss: 0.7910 | Val Acc: 0.7344\n",
            "Epoch [10/10] | Train Loss: 0.5402 | Train Acc: 0.8125 | Val Loss: 0.6486 | Val Acc: 0.7800\n",
            "Test Loss: 0.6388 | Test Acc: 0.7825\n"
          ]
        },
        {
          "output_type": "display_data",
          "data": {
            "text/plain": [
              "<IPython.core.display.HTML object>"
            ],
            "text/html": []
          },
          "metadata": {}
        },
        {
          "output_type": "display_data",
          "data": {
            "text/plain": [
              "<IPython.core.display.HTML object>"
            ],
            "text/html": [
              "<br>    <style><br>        .wandb-row {<br>            display: flex;<br>            flex-direction: row;<br>            flex-wrap: wrap;<br>            justify-content: flex-start;<br>            width: 100%;<br>        }<br>        .wandb-col {<br>            display: flex;<br>            flex-direction: column;<br>            flex-basis: 100%;<br>            flex: 1;<br>            padding: 10px;<br>        }<br>    </style><br><div class=\"wandb-row\"><div class=\"wandb-col\"><h3>Run history:</h3><br/><table class=\"wandb\"><tr><td>epoch</td><td>▁▂▃▃▄▅▆▆▇█</td></tr><tr><td>learning_rate</td><td>▁▁▁▁▁▁▁▁▁▁</td></tr><tr><td>test_acc</td><td>▁</td></tr><tr><td>test_loss</td><td>▁</td></tr><tr><td>train_acc</td><td>▁▄▅▆▇▇▇███</td></tr><tr><td>train_loss</td><td>█▅▄▃▂▂▂▁▁▁</td></tr><tr><td>val_acc</td><td>▁▂▄▄▆▇▇█▇█</td></tr><tr><td>val_loss</td><td>█▇▅▅▃▂▂▁▂▁</td></tr></table><br/></div><div class=\"wandb-col\"><h3>Run summary:</h3><br/><table class=\"wandb\"><tr><td>epoch</td><td>10</td></tr><tr><td>learning_rate</td><td>0.001</td></tr><tr><td>optimizer</td><td>adam</td></tr><tr><td>test_acc</td><td>0.7825</td></tr><tr><td>test_loss</td><td>0.63882</td></tr><tr><td>train_acc</td><td>0.8125</td></tr><tr><td>train_loss</td><td>0.54017</td></tr><tr><td>val_acc</td><td>0.78</td></tr><tr><td>val_loss</td><td>0.6486</td></tr></table><br/></div></div>"
            ]
          },
          "metadata": {}
        },
        {
          "output_type": "display_data",
          "data": {
            "text/plain": [
              "<IPython.core.display.HTML object>"
            ],
            "text/html": [
              " View run <strong style=\"color:#cdcd00\">restful-river-1</strong> at: <a href='https://wandb.ai/g22168559-vellore-institute-of-technology/cifar10_classification_Data_science_assignment_Tata_communication/runs/xeb29tvy' target=\"_blank\">https://wandb.ai/g22168559-vellore-institute-of-technology/cifar10_classification_Data_science_assignment_Tata_communication/runs/xeb29tvy</a><br> View project at: <a href='https://wandb.ai/g22168559-vellore-institute-of-technology/cifar10_classification_Data_science_assignment_Tata_communication' target=\"_blank\">https://wandb.ai/g22168559-vellore-institute-of-technology/cifar10_classification_Data_science_assignment_Tata_communication</a><br>Synced 5 W&B file(s), 0 media file(s), 0 artifact file(s) and 18 other file(s)"
            ]
          },
          "metadata": {}
        },
        {
          "output_type": "display_data",
          "data": {
            "text/plain": [
              "<IPython.core.display.HTML object>"
            ],
            "text/html": [
              "Find logs at: <code>./wandb/run-20250202_051942-xeb29tvy/logs</code>"
            ]
          },
          "metadata": {}
        },
        {
          "output_type": "stream",
          "name": "stdout",
          "text": [
            "\n",
            "Starting experiment with configuration:\n",
            "{'epochs': 10, 'batch_size': 128, 'learning_rate': 0.5, 'optimizer': 'adam'}\n"
          ]
        },
        {
          "output_type": "display_data",
          "data": {
            "text/plain": [
              "<IPython.core.display.HTML object>"
            ],
            "text/html": [
              "Tracking run with wandb version 0.19.5"
            ]
          },
          "metadata": {}
        },
        {
          "output_type": "display_data",
          "data": {
            "text/plain": [
              "<IPython.core.display.HTML object>"
            ],
            "text/html": [
              "Run data is saved locally in <code>/content/wandb/run-20250202_052429-cob23x6u</code>"
            ]
          },
          "metadata": {}
        },
        {
          "output_type": "display_data",
          "data": {
            "text/plain": [
              "<IPython.core.display.HTML object>"
            ],
            "text/html": [
              "Syncing run <strong><a href='https://wandb.ai/g22168559-vellore-institute-of-technology/cifar10_classification_Data_science_assignment_Tata_communication/runs/cob23x6u' target=\"_blank\">wobbly-snowflake-2</a></strong> to <a href='https://wandb.ai/g22168559-vellore-institute-of-technology/cifar10_classification_Data_science_assignment_Tata_communication' target=\"_blank\">Weights & Biases</a> (<a href='https://wandb.me/developer-guide' target=\"_blank\">docs</a>)<br>"
            ]
          },
          "metadata": {}
        },
        {
          "output_type": "display_data",
          "data": {
            "text/plain": [
              "<IPython.core.display.HTML object>"
            ],
            "text/html": [
              " View project at <a href='https://wandb.ai/g22168559-vellore-institute-of-technology/cifar10_classification_Data_science_assignment_Tata_communication' target=\"_blank\">https://wandb.ai/g22168559-vellore-institute-of-technology/cifar10_classification_Data_science_assignment_Tata_communication</a>"
            ]
          },
          "metadata": {}
        },
        {
          "output_type": "display_data",
          "data": {
            "text/plain": [
              "<IPython.core.display.HTML object>"
            ],
            "text/html": [
              " View run at <a href='https://wandb.ai/g22168559-vellore-institute-of-technology/cifar10_classification_Data_science_assignment_Tata_communication/runs/cob23x6u' target=\"_blank\">https://wandb.ai/g22168559-vellore-institute-of-technology/cifar10_classification_Data_science_assignment_Tata_communication/runs/cob23x6u</a>"
            ]
          },
          "metadata": {}
        },
        {
          "output_type": "stream",
          "name": "stdout",
          "text": [
            "Files already downloaded and verified\n",
            "Files already downloaded and verified\n",
            "Epoch [1/10] | Train Loss: 2.7467 | Train Acc: 0.1236 | Val Loss: 13.9765 | Val Acc: 0.0773\n",
            "Epoch [2/10] | Train Loss: 2.4944 | Train Acc: 0.1225 | Val Loss: 2.3877 | Val Acc: 0.0963\n",
            "Epoch [3/10] | Train Loss: 2.3989 | Train Acc: 0.1147 | Val Loss: 2.3170 | Val Acc: 0.1156\n",
            "Epoch [4/10] | Train Loss: 2.4777 | Train Acc: 0.1135 | Val Loss: 2.3586 | Val Acc: 0.1025\n",
            "Epoch [5/10] | Train Loss: 2.3951 | Train Acc: 0.1066 | Val Loss: 2.3517 | Val Acc: 0.0641\n",
            "Epoch [6/10] | Train Loss: 2.3794 | Train Acc: 0.1075 | Val Loss: 2.4053 | Val Acc: 0.0995\n",
            "Epoch [7/10] | Train Loss: 2.5382 | Train Acc: 0.1058 | Val Loss: 38.1255 | Val Acc: 0.0995\n",
            "Epoch [8/10] | Train Loss: 2.3597 | Train Acc: 0.1151 | Val Loss: 54.7649 | Val Acc: 0.0995\n",
            "Epoch [9/10] | Train Loss: 2.5252 | Train Acc: 0.1039 | Val Loss: 197.2013 | Val Acc: 0.1006\n",
            "Epoch [10/10] | Train Loss: 2.5966 | Train Acc: 0.1114 | Val Loss: 2.3267 | Val Acc: 0.1023\n",
            "Test Loss: 2.3282 | Test Acc: 0.1000\n"
          ]
        },
        {
          "output_type": "display_data",
          "data": {
            "text/plain": [
              "<IPython.core.display.HTML object>"
            ],
            "text/html": []
          },
          "metadata": {}
        },
        {
          "output_type": "display_data",
          "data": {
            "text/plain": [
              "<IPython.core.display.HTML object>"
            ],
            "text/html": [
              "<br>    <style><br>        .wandb-row {<br>            display: flex;<br>            flex-direction: row;<br>            flex-wrap: wrap;<br>            justify-content: flex-start;<br>            width: 100%;<br>        }<br>        .wandb-col {<br>            display: flex;<br>            flex-direction: column;<br>            flex-basis: 100%;<br>            flex: 1;<br>            padding: 10px;<br>        }<br>    </style><br><div class=\"wandb-row\"><div class=\"wandb-col\"><h3>Run history:</h3><br/><table class=\"wandb\"><tr><td>epoch</td><td>▁▂▃▃▄▅▆▆▇█</td></tr><tr><td>learning_rate</td><td>▁▁▁▁▁▁▁▁▁▁</td></tr><tr><td>test_acc</td><td>▁</td></tr><tr><td>test_loss</td><td>▁</td></tr><tr><td>train_acc</td><td>██▅▄▂▂▂▅▁▄</td></tr><tr><td>train_loss</td><td>█▃▂▃▂▁▄▁▄▅</td></tr><tr><td>val_acc</td><td>▃▅█▆▁▆▆▆▆▆</td></tr><tr><td>val_loss</td><td>▁▁▁▁▁▁▂▃█▁</td></tr></table><br/></div><div class=\"wandb-col\"><h3>Run summary:</h3><br/><table class=\"wandb\"><tr><td>epoch</td><td>10</td></tr><tr><td>learning_rate</td><td>0.5</td></tr><tr><td>optimizer</td><td>adam</td></tr><tr><td>test_acc</td><td>0.1</td></tr><tr><td>test_loss</td><td>2.32817</td></tr><tr><td>train_acc</td><td>0.11135</td></tr><tr><td>train_loss</td><td>2.59664</td></tr><tr><td>val_acc</td><td>0.1023</td></tr><tr><td>val_loss</td><td>2.32674</td></tr></table><br/></div></div>"
            ]
          },
          "metadata": {}
        },
        {
          "output_type": "display_data",
          "data": {
            "text/plain": [
              "<IPython.core.display.HTML object>"
            ],
            "text/html": [
              " View run <strong style=\"color:#cdcd00\">wobbly-snowflake-2</strong> at: <a href='https://wandb.ai/g22168559-vellore-institute-of-technology/cifar10_classification_Data_science_assignment_Tata_communication/runs/cob23x6u' target=\"_blank\">https://wandb.ai/g22168559-vellore-institute-of-technology/cifar10_classification_Data_science_assignment_Tata_communication/runs/cob23x6u</a><br> View project at: <a href='https://wandb.ai/g22168559-vellore-institute-of-technology/cifar10_classification_Data_science_assignment_Tata_communication' target=\"_blank\">https://wandb.ai/g22168559-vellore-institute-of-technology/cifar10_classification_Data_science_assignment_Tata_communication</a><br>Synced 5 W&B file(s), 0 media file(s), 0 artifact file(s) and 13 other file(s)"
            ]
          },
          "metadata": {}
        },
        {
          "output_type": "display_data",
          "data": {
            "text/plain": [
              "<IPython.core.display.HTML object>"
            ],
            "text/html": [
              "Find logs at: <code>./wandb/run-20250202_052429-cob23x6u/logs</code>"
            ]
          },
          "metadata": {}
        },
        {
          "output_type": "stream",
          "name": "stdout",
          "text": [
            "\n",
            "Starting experiment with configuration:\n",
            "{'epochs': 15, 'batch_size': 128, 'learning_rate': 0.0001, 'optimizer': 'adam'}\n"
          ]
        },
        {
          "output_type": "display_data",
          "data": {
            "text/plain": [
              "<IPython.core.display.HTML object>"
            ],
            "text/html": [
              "Tracking run with wandb version 0.19.5"
            ]
          },
          "metadata": {}
        },
        {
          "output_type": "display_data",
          "data": {
            "text/plain": [
              "<IPython.core.display.HTML object>"
            ],
            "text/html": [
              "Run data is saved locally in <code>/content/wandb/run-20250202_052910-ama5bwy7</code>"
            ]
          },
          "metadata": {}
        },
        {
          "output_type": "display_data",
          "data": {
            "text/plain": [
              "<IPython.core.display.HTML object>"
            ],
            "text/html": [
              "Syncing run <strong><a href='https://wandb.ai/g22168559-vellore-institute-of-technology/cifar10_classification_Data_science_assignment_Tata_communication/runs/ama5bwy7' target=\"_blank\">rare-leaf-3</a></strong> to <a href='https://wandb.ai/g22168559-vellore-institute-of-technology/cifar10_classification_Data_science_assignment_Tata_communication' target=\"_blank\">Weights & Biases</a> (<a href='https://wandb.me/developer-guide' target=\"_blank\">docs</a>)<br>"
            ]
          },
          "metadata": {}
        },
        {
          "output_type": "display_data",
          "data": {
            "text/plain": [
              "<IPython.core.display.HTML object>"
            ],
            "text/html": [
              " View project at <a href='https://wandb.ai/g22168559-vellore-institute-of-technology/cifar10_classification_Data_science_assignment_Tata_communication' target=\"_blank\">https://wandb.ai/g22168559-vellore-institute-of-technology/cifar10_classification_Data_science_assignment_Tata_communication</a>"
            ]
          },
          "metadata": {}
        },
        {
          "output_type": "display_data",
          "data": {
            "text/plain": [
              "<IPython.core.display.HTML object>"
            ],
            "text/html": [
              " View run at <a href='https://wandb.ai/g22168559-vellore-institute-of-technology/cifar10_classification_Data_science_assignment_Tata_communication/runs/ama5bwy7' target=\"_blank\">https://wandb.ai/g22168559-vellore-institute-of-technology/cifar10_classification_Data_science_assignment_Tata_communication/runs/ama5bwy7</a>"
            ]
          },
          "metadata": {}
        },
        {
          "output_type": "stream",
          "name": "stdout",
          "text": [
            "Files already downloaded and verified\n",
            "Files already downloaded and verified\n",
            "Epoch [1/15] | Train Loss: 1.7831 | Train Acc: 0.3430 | Val Loss: 1.5681 | Val Acc: 0.4133\n",
            "Epoch [2/15] | Train Loss: 1.4445 | Train Acc: 0.4733 | Val Loss: 1.3780 | Val Acc: 0.4923\n",
            "Epoch [3/15] | Train Loss: 1.2796 | Train Acc: 0.5356 | Val Loss: 1.2704 | Val Acc: 0.5387\n",
            "Epoch [4/15] | Train Loss: 1.1639 | Train Acc: 0.5821 | Val Loss: 1.1740 | Val Acc: 0.5818\n",
            "Epoch [5/15] | Train Loss: 1.0741 | Train Acc: 0.6165 | Val Loss: 1.1268 | Val Acc: 0.5934\n",
            "Epoch [6/15] | Train Loss: 1.0006 | Train Acc: 0.6453 | Val Loss: 1.0207 | Val Acc: 0.6367\n",
            "Epoch [7/15] | Train Loss: 0.9428 | Train Acc: 0.6623 | Val Loss: 0.9918 | Val Acc: 0.6450\n",
            "Epoch [8/15] | Train Loss: 0.8908 | Train Acc: 0.6841 | Val Loss: 0.9442 | Val Acc: 0.6616\n",
            "Epoch [9/15] | Train Loss: 0.8510 | Train Acc: 0.7001 | Val Loss: 0.9360 | Val Acc: 0.6732\n",
            "Epoch [10/15] | Train Loss: 0.8108 | Train Acc: 0.7134 | Val Loss: 0.8827 | Val Acc: 0.6913\n",
            "Epoch [11/15] | Train Loss: 0.7779 | Train Acc: 0.7279 | Val Loss: 0.8219 | Val Acc: 0.7119\n",
            "Epoch [12/15] | Train Loss: 0.7439 | Train Acc: 0.7394 | Val Loss: 0.8290 | Val Acc: 0.7129\n",
            "Epoch [13/15] | Train Loss: 0.7120 | Train Acc: 0.7492 | Val Loss: 0.8152 | Val Acc: 0.7160\n",
            "Epoch [14/15] | Train Loss: 0.6898 | Train Acc: 0.7585 | Val Loss: 0.7833 | Val Acc: 0.7290\n",
            "Epoch [15/15] | Train Loss: 0.6702 | Train Acc: 0.7675 | Val Loss: 0.7570 | Val Acc: 0.7381\n",
            "Test Loss: 0.7612 | Test Acc: 0.7435\n"
          ]
        },
        {
          "output_type": "display_data",
          "data": {
            "text/plain": [
              "<IPython.core.display.HTML object>"
            ],
            "text/html": []
          },
          "metadata": {}
        },
        {
          "output_type": "display_data",
          "data": {
            "text/plain": [
              "<IPython.core.display.HTML object>"
            ],
            "text/html": [
              "<br>    <style><br>        .wandb-row {<br>            display: flex;<br>            flex-direction: row;<br>            flex-wrap: wrap;<br>            justify-content: flex-start;<br>            width: 100%;<br>        }<br>        .wandb-col {<br>            display: flex;<br>            flex-direction: column;<br>            flex-basis: 100%;<br>            flex: 1;<br>            padding: 10px;<br>        }<br>    </style><br><div class=\"wandb-row\"><div class=\"wandb-col\"><h3>Run history:</h3><br/><table class=\"wandb\"><tr><td>epoch</td><td>▁▁▂▃▃▃▄▅▅▅▆▇▇▇█</td></tr><tr><td>learning_rate</td><td>▁▁▁▁▁▁▁▁▁▁▁▁▁▁▁</td></tr><tr><td>test_acc</td><td>▁</td></tr><tr><td>test_loss</td><td>▁</td></tr><tr><td>train_acc</td><td>▁▃▄▅▆▆▆▇▇▇▇████</td></tr><tr><td>train_loss</td><td>█▆▅▄▄▃▃▂▂▂▂▁▁▁▁</td></tr><tr><td>val_acc</td><td>▁▃▄▅▅▆▆▆▇▇▇▇███</td></tr><tr><td>val_loss</td><td>█▆▅▅▄▃▃▃▃▂▂▂▂▁▁</td></tr></table><br/></div><div class=\"wandb-col\"><h3>Run summary:</h3><br/><table class=\"wandb\"><tr><td>epoch</td><td>15</td></tr><tr><td>learning_rate</td><td>0.0001</td></tr><tr><td>optimizer</td><td>adam</td></tr><tr><td>test_acc</td><td>0.7435</td></tr><tr><td>test_loss</td><td>0.76124</td></tr><tr><td>train_acc</td><td>0.76755</td></tr><tr><td>train_loss</td><td>0.67019</td></tr><tr><td>val_acc</td><td>0.7381</td></tr><tr><td>val_loss</td><td>0.75698</td></tr></table><br/></div></div>"
            ]
          },
          "metadata": {}
        },
        {
          "output_type": "display_data",
          "data": {
            "text/plain": [
              "<IPython.core.display.HTML object>"
            ],
            "text/html": [
              " View run <strong style=\"color:#cdcd00\">rare-leaf-3</strong> at: <a href='https://wandb.ai/g22168559-vellore-institute-of-technology/cifar10_classification_Data_science_assignment_Tata_communication/runs/ama5bwy7' target=\"_blank\">https://wandb.ai/g22168559-vellore-institute-of-technology/cifar10_classification_Data_science_assignment_Tata_communication/runs/ama5bwy7</a><br> View project at: <a href='https://wandb.ai/g22168559-vellore-institute-of-technology/cifar10_classification_Data_science_assignment_Tata_communication' target=\"_blank\">https://wandb.ai/g22168559-vellore-institute-of-technology/cifar10_classification_Data_science_assignment_Tata_communication</a><br>Synced 5 W&B file(s), 0 media file(s), 0 artifact file(s) and 30 other file(s)"
            ]
          },
          "metadata": {}
        },
        {
          "output_type": "display_data",
          "data": {
            "text/plain": [
              "<IPython.core.display.HTML object>"
            ],
            "text/html": [
              "Find logs at: <code>./wandb/run-20250202_052910-ama5bwy7/logs</code>"
            ]
          },
          "metadata": {}
        },
        {
          "output_type": "stream",
          "name": "stdout",
          "text": [
            "\n",
            "Starting experiment with configuration:\n",
            "{'epochs': 10, 'batch_size': 128, 'learning_rate': 0.001, 'optimizer': 'sgd'}\n"
          ]
        },
        {
          "output_type": "display_data",
          "data": {
            "text/plain": [
              "<IPython.core.display.HTML object>"
            ],
            "text/html": [
              "Tracking run with wandb version 0.19.5"
            ]
          },
          "metadata": {}
        },
        {
          "output_type": "display_data",
          "data": {
            "text/plain": [
              "<IPython.core.display.HTML object>"
            ],
            "text/html": [
              "Run data is saved locally in <code>/content/wandb/run-20250202_053606-0d2d4cp2</code>"
            ]
          },
          "metadata": {}
        },
        {
          "output_type": "display_data",
          "data": {
            "text/plain": [
              "<IPython.core.display.HTML object>"
            ],
            "text/html": [
              "Syncing run <strong><a href='https://wandb.ai/g22168559-vellore-institute-of-technology/cifar10_classification_Data_science_assignment_Tata_communication/runs/0d2d4cp2' target=\"_blank\">gallant-deluge-4</a></strong> to <a href='https://wandb.ai/g22168559-vellore-institute-of-technology/cifar10_classification_Data_science_assignment_Tata_communication' target=\"_blank\">Weights & Biases</a> (<a href='https://wandb.me/developer-guide' target=\"_blank\">docs</a>)<br>"
            ]
          },
          "metadata": {}
        },
        {
          "output_type": "display_data",
          "data": {
            "text/plain": [
              "<IPython.core.display.HTML object>"
            ],
            "text/html": [
              " View project at <a href='https://wandb.ai/g22168559-vellore-institute-of-technology/cifar10_classification_Data_science_assignment_Tata_communication' target=\"_blank\">https://wandb.ai/g22168559-vellore-institute-of-technology/cifar10_classification_Data_science_assignment_Tata_communication</a>"
            ]
          },
          "metadata": {}
        },
        {
          "output_type": "display_data",
          "data": {
            "text/plain": [
              "<IPython.core.display.HTML object>"
            ],
            "text/html": [
              " View run at <a href='https://wandb.ai/g22168559-vellore-institute-of-technology/cifar10_classification_Data_science_assignment_Tata_communication/runs/0d2d4cp2' target=\"_blank\">https://wandb.ai/g22168559-vellore-institute-of-technology/cifar10_classification_Data_science_assignment_Tata_communication/runs/0d2d4cp2</a>"
            ]
          },
          "metadata": {}
        },
        {
          "output_type": "stream",
          "name": "stdout",
          "text": [
            "Files already downloaded and verified\n",
            "Files already downloaded and verified\n",
            "Epoch [1/10] | Train Loss: 1.8860 | Train Acc: 0.2881 | Val Loss: 1.6320 | Val Acc: 0.3818\n",
            "Epoch [2/10] | Train Loss: 1.5239 | Train Acc: 0.4301 | Val Loss: 1.4967 | Val Acc: 0.4501\n",
            "Epoch [3/10] | Train Loss: 1.3725 | Train Acc: 0.4953 | Val Loss: 1.3748 | Val Acc: 0.5082\n",
            "Epoch [4/10] | Train Loss: 1.2427 | Train Acc: 0.5482 | Val Loss: 1.2251 | Val Acc: 0.5586\n",
            "Epoch [5/10] | Train Loss: 1.1248 | Train Acc: 0.5962 | Val Loss: 1.1179 | Val Acc: 0.6009\n",
            "Epoch [6/10] | Train Loss: 1.0297 | Train Acc: 0.6330 | Val Loss: 1.0518 | Val Acc: 0.6277\n",
            "Epoch [7/10] | Train Loss: 0.9576 | Train Acc: 0.6574 | Val Loss: 0.9563 | Val Acc: 0.6633\n",
            "Epoch [8/10] | Train Loss: 0.8885 | Train Acc: 0.6841 | Val Loss: 0.9854 | Val Acc: 0.6548\n",
            "Epoch [9/10] | Train Loss: 0.8413 | Train Acc: 0.7038 | Val Loss: 0.8415 | Val Acc: 0.6992\n",
            "Epoch [10/10] | Train Loss: 0.7926 | Train Acc: 0.7200 | Val Loss: 0.8643 | Val Acc: 0.6997\n",
            "Test Loss: 0.8822 | Test Acc: 0.7022\n"
          ]
        },
        {
          "output_type": "display_data",
          "data": {
            "text/plain": [
              "<IPython.core.display.HTML object>"
            ],
            "text/html": []
          },
          "metadata": {}
        },
        {
          "output_type": "display_data",
          "data": {
            "text/plain": [
              "<IPython.core.display.HTML object>"
            ],
            "text/html": [
              "<br>    <style><br>        .wandb-row {<br>            display: flex;<br>            flex-direction: row;<br>            flex-wrap: wrap;<br>            justify-content: flex-start;<br>            width: 100%;<br>        }<br>        .wandb-col {<br>            display: flex;<br>            flex-direction: column;<br>            flex-basis: 100%;<br>            flex: 1;<br>            padding: 10px;<br>        }<br>    </style><br><div class=\"wandb-row\"><div class=\"wandb-col\"><h3>Run history:</h3><br/><table class=\"wandb\"><tr><td>epoch</td><td>▁▂▃▃▄▅▆▆▇█</td></tr><tr><td>learning_rate</td><td>▁▁▁▁▁▁▁▁▁▁</td></tr><tr><td>test_acc</td><td>▁</td></tr><tr><td>test_loss</td><td>▁</td></tr><tr><td>train_acc</td><td>▁▃▄▅▆▇▇▇██</td></tr><tr><td>train_loss</td><td>█▆▅▄▃▃▂▂▁▁</td></tr><tr><td>val_acc</td><td>▁▃▄▅▆▆▇▇██</td></tr><tr><td>val_loss</td><td>█▇▆▄▃▃▂▂▁▁</td></tr></table><br/></div><div class=\"wandb-col\"><h3>Run summary:</h3><br/><table class=\"wandb\"><tr><td>epoch</td><td>10</td></tr><tr><td>learning_rate</td><td>0.001</td></tr><tr><td>optimizer</td><td>sgd</td></tr><tr><td>test_acc</td><td>0.7022</td></tr><tr><td>test_loss</td><td>0.88218</td></tr><tr><td>train_acc</td><td>0.72</td></tr><tr><td>train_loss</td><td>0.79265</td></tr><tr><td>val_acc</td><td>0.6997</td></tr><tr><td>val_loss</td><td>0.86432</td></tr></table><br/></div></div>"
            ]
          },
          "metadata": {}
        },
        {
          "output_type": "display_data",
          "data": {
            "text/plain": [
              "<IPython.core.display.HTML object>"
            ],
            "text/html": [
              " View run <strong style=\"color:#cdcd00\">gallant-deluge-4</strong> at: <a href='https://wandb.ai/g22168559-vellore-institute-of-technology/cifar10_classification_Data_science_assignment_Tata_communication/runs/0d2d4cp2' target=\"_blank\">https://wandb.ai/g22168559-vellore-institute-of-technology/cifar10_classification_Data_science_assignment_Tata_communication/runs/0d2d4cp2</a><br> View project at: <a href='https://wandb.ai/g22168559-vellore-institute-of-technology/cifar10_classification_Data_science_assignment_Tata_communication' target=\"_blank\">https://wandb.ai/g22168559-vellore-institute-of-technology/cifar10_classification_Data_science_assignment_Tata_communication</a><br>Synced 5 W&B file(s), 0 media file(s), 0 artifact file(s) and 19 other file(s)"
            ]
          },
          "metadata": {}
        },
        {
          "output_type": "display_data",
          "data": {
            "text/plain": [
              "<IPython.core.display.HTML object>"
            ],
            "text/html": [
              "Find logs at: <code>./wandb/run-20250202_053606-0d2d4cp2/logs</code>"
            ]
          },
          "metadata": {}
        },
        {
          "output_type": "stream",
          "name": "stdout",
          "text": [
            "\n",
            "Starting experiment with configuration:\n",
            "{'epochs': 20, 'batch_size': 128, 'learning_rate': 0.0005, 'optimizer': 'sgd'}\n"
          ]
        },
        {
          "output_type": "display_data",
          "data": {
            "text/plain": [
              "<IPython.core.display.HTML object>"
            ],
            "text/html": [
              "Tracking run with wandb version 0.19.5"
            ]
          },
          "metadata": {}
        },
        {
          "output_type": "display_data",
          "data": {
            "text/plain": [
              "<IPython.core.display.HTML object>"
            ],
            "text/html": [
              "Run data is saved locally in <code>/content/wandb/run-20250202_054044-nv38xwho</code>"
            ]
          },
          "metadata": {}
        },
        {
          "output_type": "display_data",
          "data": {
            "text/plain": [
              "<IPython.core.display.HTML object>"
            ],
            "text/html": [
              "Syncing run <strong><a href='https://wandb.ai/g22168559-vellore-institute-of-technology/cifar10_classification_Data_science_assignment_Tata_communication/runs/nv38xwho' target=\"_blank\">sage-brook-5</a></strong> to <a href='https://wandb.ai/g22168559-vellore-institute-of-technology/cifar10_classification_Data_science_assignment_Tata_communication' target=\"_blank\">Weights & Biases</a> (<a href='https://wandb.me/developer-guide' target=\"_blank\">docs</a>)<br>"
            ]
          },
          "metadata": {}
        },
        {
          "output_type": "display_data",
          "data": {
            "text/plain": [
              "<IPython.core.display.HTML object>"
            ],
            "text/html": [
              " View project at <a href='https://wandb.ai/g22168559-vellore-institute-of-technology/cifar10_classification_Data_science_assignment_Tata_communication' target=\"_blank\">https://wandb.ai/g22168559-vellore-institute-of-technology/cifar10_classification_Data_science_assignment_Tata_communication</a>"
            ]
          },
          "metadata": {}
        },
        {
          "output_type": "display_data",
          "data": {
            "text/plain": [
              "<IPython.core.display.HTML object>"
            ],
            "text/html": [
              " View run at <a href='https://wandb.ai/g22168559-vellore-institute-of-technology/cifar10_classification_Data_science_assignment_Tata_communication/runs/nv38xwho' target=\"_blank\">https://wandb.ai/g22168559-vellore-institute-of-technology/cifar10_classification_Data_science_assignment_Tata_communication/runs/nv38xwho</a>"
            ]
          },
          "metadata": {}
        },
        {
          "output_type": "stream",
          "name": "stdout",
          "text": [
            "Files already downloaded and verified\n",
            "Files already downloaded and verified\n",
            "Epoch [1/20] | Train Loss: 1.9825 | Train Acc: 0.2519 | Val Loss: 1.7715 | Val Acc: 0.3221\n",
            "Epoch [2/20] | Train Loss: 1.6530 | Train Acc: 0.3734 | Val Loss: 1.5896 | Val Acc: 0.3942\n",
            "Epoch [3/20] | Train Loss: 1.5013 | Train Acc: 0.4405 | Val Loss: 1.4468 | Val Acc: 0.4643\n",
            "Epoch [4/20] | Train Loss: 1.3795 | Train Acc: 0.4901 | Val Loss: 1.4054 | Val Acc: 0.4885\n",
            "Epoch [5/20] | Train Loss: 1.2935 | Train Acc: 0.5258 | Val Loss: 1.3021 | Val Acc: 0.5268\n",
            "Epoch [6/20] | Train Loss: 1.2213 | Train Acc: 0.5541 | Val Loss: 1.2355 | Val Acc: 0.5511\n",
            "Epoch [7/20] | Train Loss: 1.1632 | Train Acc: 0.5786 | Val Loss: 1.1261 | Val Acc: 0.5913\n",
            "Epoch [8/20] | Train Loss: 1.1084 | Train Acc: 0.5994 | Val Loss: 1.1085 | Val Acc: 0.6000\n",
            "Epoch [9/20] | Train Loss: 1.0574 | Train Acc: 0.6197 | Val Loss: 1.0578 | Val Acc: 0.6151\n",
            "Epoch [10/20] | Train Loss: 1.0183 | Train Acc: 0.6338 | Val Loss: 1.0684 | Val Acc: 0.6129\n",
            "Epoch [11/20] | Train Loss: 0.9836 | Train Acc: 0.6492 | Val Loss: 0.9984 | Val Acc: 0.6424\n",
            "Epoch [12/20] | Train Loss: 0.9517 | Train Acc: 0.6585 | Val Loss: 0.9541 | Val Acc: 0.6576\n",
            "Epoch [13/20] | Train Loss: 0.9180 | Train Acc: 0.6703 | Val Loss: 0.9663 | Val Acc: 0.6546\n",
            "Epoch [14/20] | Train Loss: 0.8936 | Train Acc: 0.6809 | Val Loss: 0.9006 | Val Acc: 0.6803\n",
            "Epoch [15/20] | Train Loss: 0.8663 | Train Acc: 0.6924 | Val Loss: 0.8917 | Val Acc: 0.6804\n",
            "Epoch [16/20] | Train Loss: 0.8409 | Train Acc: 0.7022 | Val Loss: 0.8965 | Val Acc: 0.6821\n",
            "Epoch [17/20] | Train Loss: 0.8186 | Train Acc: 0.7096 | Val Loss: 0.8942 | Val Acc: 0.6828\n",
            "Epoch [18/20] | Train Loss: 0.8000 | Train Acc: 0.7158 | Val Loss: 0.9028 | Val Acc: 0.6778\n",
            "Epoch [19/20] | Train Loss: 0.7758 | Train Acc: 0.7242 | Val Loss: 0.8282 | Val Acc: 0.7040\n",
            "Epoch [20/20] | Train Loss: 0.7524 | Train Acc: 0.7318 | Val Loss: 0.8006 | Val Acc: 0.7180\n",
            "Test Loss: 0.8184 | Test Acc: 0.7114\n"
          ]
        },
        {
          "output_type": "display_data",
          "data": {
            "text/plain": [
              "<IPython.core.display.HTML object>"
            ],
            "text/html": []
          },
          "metadata": {}
        },
        {
          "output_type": "display_data",
          "data": {
            "text/plain": [
              "<IPython.core.display.HTML object>"
            ],
            "text/html": [
              "<br>    <style><br>        .wandb-row {<br>            display: flex;<br>            flex-direction: row;<br>            flex-wrap: wrap;<br>            justify-content: flex-start;<br>            width: 100%;<br>        }<br>        .wandb-col {<br>            display: flex;<br>            flex-direction: column;<br>            flex-basis: 100%;<br>            flex: 1;<br>            padding: 10px;<br>        }<br>    </style><br><div class=\"wandb-row\"><div class=\"wandb-col\"><h3>Run history:</h3><br/><table class=\"wandb\"><tr><td>epoch</td><td>▁▁▂▂▂▃▃▄▄▄▅▅▅▆▆▇▇▇██</td></tr><tr><td>learning_rate</td><td>▁▁▁▁▁▁▁▁▁▁▁▁▁▁▁▁▁▁▁▁</td></tr><tr><td>test_acc</td><td>▁</td></tr><tr><td>test_loss</td><td>▁</td></tr><tr><td>train_acc</td><td>▁▃▄▄▅▅▆▆▆▇▇▇▇▇▇█████</td></tr><tr><td>train_loss</td><td>█▆▅▅▄▄▃▃▃▃▂▂▂▂▂▂▁▁▁▁</td></tr><tr><td>val_acc</td><td>▁▂▄▄▅▅▆▆▆▆▇▇▇▇▇▇▇▇██</td></tr><tr><td>val_loss</td><td>█▇▆▅▅▄▃▃▃▃▂▂▂▂▂▂▂▂▁▁</td></tr></table><br/></div><div class=\"wandb-col\"><h3>Run summary:</h3><br/><table class=\"wandb\"><tr><td>epoch</td><td>20</td></tr><tr><td>learning_rate</td><td>0.0005</td></tr><tr><td>optimizer</td><td>sgd</td></tr><tr><td>test_acc</td><td>0.7114</td></tr><tr><td>test_loss</td><td>0.81842</td></tr><tr><td>train_acc</td><td>0.7318</td></tr><tr><td>train_loss</td><td>0.75241</td></tr><tr><td>val_acc</td><td>0.718</td></tr><tr><td>val_loss</td><td>0.80063</td></tr></table><br/></div></div>"
            ]
          },
          "metadata": {}
        },
        {
          "output_type": "display_data",
          "data": {
            "text/plain": [
              "<IPython.core.display.HTML object>"
            ],
            "text/html": [
              " View run <strong style=\"color:#cdcd00\">sage-brook-5</strong> at: <a href='https://wandb.ai/g22168559-vellore-institute-of-technology/cifar10_classification_Data_science_assignment_Tata_communication/runs/nv38xwho' target=\"_blank\">https://wandb.ai/g22168559-vellore-institute-of-technology/cifar10_classification_Data_science_assignment_Tata_communication/runs/nv38xwho</a><br> View project at: <a href='https://wandb.ai/g22168559-vellore-institute-of-technology/cifar10_classification_Data_science_assignment_Tata_communication' target=\"_blank\">https://wandb.ai/g22168559-vellore-institute-of-technology/cifar10_classification_Data_science_assignment_Tata_communication</a><br>Synced 5 W&B file(s), 0 media file(s), 0 artifact file(s) and 37 other file(s)"
            ]
          },
          "metadata": {}
        },
        {
          "output_type": "display_data",
          "data": {
            "text/plain": [
              "<IPython.core.display.HTML object>"
            ],
            "text/html": [
              "Find logs at: <code>./wandb/run-20250202_054044-nv38xwho/logs</code>"
            ]
          },
          "metadata": {}
        },
        {
          "output_type": "stream",
          "name": "stdout",
          "text": [
            "\n",
            "Starting experiment with configuration:\n",
            "{'epochs': 105, 'batch_size': 128, 'learning_rate': 0.1, 'optimizer': 'sgd', 'use_scheduler': True}\n"
          ]
        },
        {
          "output_type": "display_data",
          "data": {
            "text/plain": [
              "<IPython.core.display.HTML object>"
            ],
            "text/html": [
              "Tracking run with wandb version 0.19.5"
            ]
          },
          "metadata": {}
        },
        {
          "output_type": "display_data",
          "data": {
            "text/plain": [
              "<IPython.core.display.HTML object>"
            ],
            "text/html": [
              "Run data is saved locally in <code>/content/wandb/run-20250202_054954-wgxixpiq</code>"
            ]
          },
          "metadata": {}
        },
        {
          "output_type": "display_data",
          "data": {
            "text/plain": [
              "<IPython.core.display.HTML object>"
            ],
            "text/html": [
              "Syncing run <strong><a href='https://wandb.ai/g22168559-vellore-institute-of-technology/cifar10_classification_Data_science_assignment_Tata_communication/runs/wgxixpiq' target=\"_blank\">lucky-lion-6</a></strong> to <a href='https://wandb.ai/g22168559-vellore-institute-of-technology/cifar10_classification_Data_science_assignment_Tata_communication' target=\"_blank\">Weights & Biases</a> (<a href='https://wandb.me/developer-guide' target=\"_blank\">docs</a>)<br>"
            ]
          },
          "metadata": {}
        },
        {
          "output_type": "display_data",
          "data": {
            "text/plain": [
              "<IPython.core.display.HTML object>"
            ],
            "text/html": [
              " View project at <a href='https://wandb.ai/g22168559-vellore-institute-of-technology/cifar10_classification_Data_science_assignment_Tata_communication' target=\"_blank\">https://wandb.ai/g22168559-vellore-institute-of-technology/cifar10_classification_Data_science_assignment_Tata_communication</a>"
            ]
          },
          "metadata": {}
        },
        {
          "output_type": "display_data",
          "data": {
            "text/plain": [
              "<IPython.core.display.HTML object>"
            ],
            "text/html": [
              " View run at <a href='https://wandb.ai/g22168559-vellore-institute-of-technology/cifar10_classification_Data_science_assignment_Tata_communication/runs/wgxixpiq' target=\"_blank\">https://wandb.ai/g22168559-vellore-institute-of-technology/cifar10_classification_Data_science_assignment_Tata_communication/runs/wgxixpiq</a>"
            ]
          },
          "metadata": {}
        },
        {
          "output_type": "stream",
          "name": "stdout",
          "text": [
            "Files already downloaded and verified\n",
            "Files already downloaded and verified\n",
            "Epoch [1/105] | Train Loss: 1.7345 | Train Acc: 0.3479 | Val Loss: 1.4564 | Val Acc: 0.4609\n",
            "Epoch [2/105] | Train Loss: 1.3230 | Train Acc: 0.5144 | Val Loss: 1.2047 | Val Acc: 0.5743\n",
            "Epoch [3/105] | Train Loss: 1.0784 | Train Acc: 0.6136 | Val Loss: 1.1107 | Val Acc: 0.6126\n",
            "Epoch [4/105] | Train Loss: 0.9124 | Train Acc: 0.6769 | Val Loss: 1.0348 | Val Acc: 0.6317\n",
            "Epoch [5/105] | Train Loss: 0.8011 | Train Acc: 0.7207 | Val Loss: 1.0380 | Val Acc: 0.6400\n",
            "Epoch [6/105] | Train Loss: 0.7300 | Train Acc: 0.7458 | Val Loss: 0.8585 | Val Acc: 0.7102\n",
            "Epoch [7/105] | Train Loss: 0.6760 | Train Acc: 0.7659 | Val Loss: 0.8318 | Val Acc: 0.7099\n",
            "Epoch [8/105] | Train Loss: 0.6450 | Train Acc: 0.7783 | Val Loss: 1.0066 | Val Acc: 0.6795\n",
            "Epoch [9/105] | Train Loss: 0.6191 | Train Acc: 0.7875 | Val Loss: 0.7914 | Val Acc: 0.7306\n",
            "Epoch [10/105] | Train Loss: 0.5966 | Train Acc: 0.7938 | Val Loss: 0.8744 | Val Acc: 0.6986\n",
            "Epoch [11/105] | Train Loss: 0.5824 | Train Acc: 0.7982 | Val Loss: 0.8869 | Val Acc: 0.7046\n",
            "Epoch [12/105] | Train Loss: 0.5631 | Train Acc: 0.8063 | Val Loss: 0.7554 | Val Acc: 0.7439\n",
            "Epoch [13/105] | Train Loss: 0.5526 | Train Acc: 0.8074 | Val Loss: 0.7946 | Val Acc: 0.7320\n",
            "Epoch [14/105] | Train Loss: 0.5351 | Train Acc: 0.8139 | Val Loss: 0.7585 | Val Acc: 0.7453\n",
            "Epoch [15/105] | Train Loss: 0.5261 | Train Acc: 0.8186 | Val Loss: 0.7653 | Val Acc: 0.7371\n",
            "Epoch [16/105] | Train Loss: 0.5171 | Train Acc: 0.8224 | Val Loss: 0.8524 | Val Acc: 0.7098\n",
            "Epoch [17/105] | Train Loss: 0.5169 | Train Acc: 0.8219 | Val Loss: 0.6734 | Val Acc: 0.7716\n",
            "Epoch [18/105] | Train Loss: 0.5069 | Train Acc: 0.8254 | Val Loss: 0.8067 | Val Acc: 0.7429\n",
            "Epoch [19/105] | Train Loss: 0.5003 | Train Acc: 0.8269 | Val Loss: 0.6728 | Val Acc: 0.7764\n",
            "Epoch [20/105] | Train Loss: 0.4904 | Train Acc: 0.8305 | Val Loss: 0.7218 | Val Acc: 0.7589\n",
            "Epoch [21/105] | Train Loss: 0.4908 | Train Acc: 0.8312 | Val Loss: 0.7444 | Val Acc: 0.7534\n",
            "Epoch [22/105] | Train Loss: 0.4877 | Train Acc: 0.8352 | Val Loss: 0.7516 | Val Acc: 0.7538\n",
            "Epoch [23/105] | Train Loss: 0.4800 | Train Acc: 0.8347 | Val Loss: 0.5740 | Val Acc: 0.8063\n",
            "Epoch [24/105] | Train Loss: 0.4741 | Train Acc: 0.8366 | Val Loss: 0.7157 | Val Acc: 0.7556\n",
            "Epoch [25/105] | Train Loss: 0.4733 | Train Acc: 0.8379 | Val Loss: 0.7671 | Val Acc: 0.7539\n",
            "Epoch [26/105] | Train Loss: 0.4675 | Train Acc: 0.8399 | Val Loss: 0.5988 | Val Acc: 0.7928\n",
            "Epoch [27/105] | Train Loss: 0.4644 | Train Acc: 0.8411 | Val Loss: 0.7068 | Val Acc: 0.7673\n",
            "Epoch [28/105] | Train Loss: 0.4601 | Train Acc: 0.8429 | Val Loss: 0.7057 | Val Acc: 0.7678\n",
            "Epoch [29/105] | Train Loss: 0.4600 | Train Acc: 0.8427 | Val Loss: 0.6699 | Val Acc: 0.7774\n",
            "Epoch [30/105] | Train Loss: 0.4583 | Train Acc: 0.8409 | Val Loss: 0.9980 | Val Acc: 0.6745\n",
            "Epoch [31/105] | Train Loss: 0.4529 | Train Acc: 0.8451 | Val Loss: 0.5326 | Val Acc: 0.8132\n",
            "Epoch [32/105] | Train Loss: 0.4486 | Train Acc: 0.8458 | Val Loss: 0.5620 | Val Acc: 0.8103\n",
            "Epoch [33/105] | Train Loss: 0.4514 | Train Acc: 0.8437 | Val Loss: 0.6181 | Val Acc: 0.7870\n",
            "Epoch [34/105] | Train Loss: 0.4430 | Train Acc: 0.8458 | Val Loss: 0.6926 | Val Acc: 0.7698\n",
            "Epoch [35/105] | Train Loss: 0.4398 | Train Acc: 0.8495 | Val Loss: 0.6352 | Val Acc: 0.7836\n",
            "Epoch [36/105] | Train Loss: 0.4370 | Train Acc: 0.8505 | Val Loss: 0.6959 | Val Acc: 0.7740\n",
            "Epoch [37/105] | Train Loss: 0.4339 | Train Acc: 0.8526 | Val Loss: 0.6237 | Val Acc: 0.7894\n",
            "Epoch [38/105] | Train Loss: 0.4459 | Train Acc: 0.8458 | Val Loss: 0.5671 | Val Acc: 0.8081\n",
            "Epoch [39/105] | Train Loss: 0.4369 | Train Acc: 0.8494 | Val Loss: 0.7205 | Val Acc: 0.7571\n",
            "Epoch [40/105] | Train Loss: 0.4284 | Train Acc: 0.8526 | Val Loss: 0.6649 | Val Acc: 0.7820\n",
            "Epoch [41/105] | Train Loss: 0.4261 | Train Acc: 0.8533 | Val Loss: 0.5438 | Val Acc: 0.8136\n",
            "Epoch [42/105] | Train Loss: 0.4297 | Train Acc: 0.8523 | Val Loss: 0.8361 | Val Acc: 0.7272\n",
            "Epoch [43/105] | Train Loss: 0.4336 | Train Acc: 0.8514 | Val Loss: 0.9090 | Val Acc: 0.7252\n",
            "Epoch [44/105] | Train Loss: 0.4274 | Train Acc: 0.8518 | Val Loss: 0.7515 | Val Acc: 0.7653\n",
            "Epoch [45/105] | Train Loss: 0.4244 | Train Acc: 0.8562 | Val Loss: 0.5965 | Val Acc: 0.7970\n",
            "Epoch [46/105] | Train Loss: 0.4248 | Train Acc: 0.8549 | Val Loss: 0.5825 | Val Acc: 0.8013\n",
            "Epoch [47/105] | Train Loss: 0.4209 | Train Acc: 0.8558 | Val Loss: 0.6046 | Val Acc: 0.7963\n",
            "Epoch [48/105] | Train Loss: 0.4195 | Train Acc: 0.8544 | Val Loss: 0.5941 | Val Acc: 0.8006\n",
            "Epoch [49/105] | Train Loss: 0.4236 | Train Acc: 0.8550 | Val Loss: 0.4890 | Val Acc: 0.8329\n",
            "Epoch [50/105] | Train Loss: 0.4126 | Train Acc: 0.8589 | Val Loss: 0.5530 | Val Acc: 0.8105\n",
            "Epoch [51/105] | Train Loss: 0.4157 | Train Acc: 0.8566 | Val Loss: 0.5455 | Val Acc: 0.8179\n",
            "Epoch [52/105] | Train Loss: 0.4122 | Train Acc: 0.8597 | Val Loss: 0.8105 | Val Acc: 0.7435\n",
            "Epoch [53/105] | Train Loss: 0.2650 | Train Acc: 0.9110 | Val Loss: 0.2973 | Val Acc: 0.8989\n",
            "Epoch [54/105] | Train Loss: 0.2148 | Train Acc: 0.9266 | Val Loss: 0.2856 | Val Acc: 0.9040\n",
            "Epoch [55/105] | Train Loss: 0.1938 | Train Acc: 0.9338 | Val Loss: 0.2743 | Val Acc: 0.9065\n",
            "Epoch [56/105] | Train Loss: 0.1838 | Train Acc: 0.9375 | Val Loss: 0.2716 | Val Acc: 0.9093\n",
            "Epoch [57/105] | Train Loss: 0.1708 | Train Acc: 0.9434 | Val Loss: 0.2689 | Val Acc: 0.9082\n",
            "Epoch [58/105] | Train Loss: 0.1597 | Train Acc: 0.9463 | Val Loss: 0.2670 | Val Acc: 0.9129\n",
            "Epoch [59/105] | Train Loss: 0.1534 | Train Acc: 0.9477 | Val Loss: 0.2705 | Val Acc: 0.9107\n",
            "Epoch [60/105] | Train Loss: 0.1454 | Train Acc: 0.9520 | Val Loss: 0.2686 | Val Acc: 0.9131\n",
            "Epoch [61/105] | Train Loss: 0.1394 | Train Acc: 0.9519 | Val Loss: 0.2696 | Val Acc: 0.9112\n",
            "Epoch [62/105] | Train Loss: 0.1327 | Train Acc: 0.9556 | Val Loss: 0.2860 | Val Acc: 0.9075\n",
            "Epoch [63/105] | Train Loss: 0.1325 | Train Acc: 0.9541 | Val Loss: 0.2796 | Val Acc: 0.9074\n",
            "Epoch [64/105] | Train Loss: 0.1237 | Train Acc: 0.9579 | Val Loss: 0.2832 | Val Acc: 0.9053\n",
            "Epoch [65/105] | Train Loss: 0.1199 | Train Acc: 0.9596 | Val Loss: 0.2724 | Val Acc: 0.9098\n",
            "Epoch [66/105] | Train Loss: 0.1195 | Train Acc: 0.9592 | Val Loss: 0.2940 | Val Acc: 0.9061\n",
            "Epoch [67/105] | Train Loss: 0.1129 | Train Acc: 0.9630 | Val Loss: 0.2799 | Val Acc: 0.9089\n",
            "Epoch [68/105] | Train Loss: 0.1099 | Train Acc: 0.9630 | Val Loss: 0.2820 | Val Acc: 0.9079\n",
            "Epoch [69/105] | Train Loss: 0.1111 | Train Acc: 0.9618 | Val Loss: 0.2904 | Val Acc: 0.9067\n",
            "Epoch [70/105] | Train Loss: 0.1072 | Train Acc: 0.9637 | Val Loss: 0.2942 | Val Acc: 0.9085\n",
            "Epoch [71/105] | Train Loss: 0.1034 | Train Acc: 0.9649 | Val Loss: 0.3048 | Val Acc: 0.9039\n",
            "Epoch [72/105] | Train Loss: 0.1040 | Train Acc: 0.9648 | Val Loss: 0.2804 | Val Acc: 0.9129\n",
            "Epoch [73/105] | Train Loss: 0.1005 | Train Acc: 0.9658 | Val Loss: 0.2951 | Val Acc: 0.9073\n",
            "Epoch [74/105] | Train Loss: 0.1023 | Train Acc: 0.9645 | Val Loss: 0.3167 | Val Acc: 0.9026\n",
            "Epoch [75/105] | Train Loss: 0.0945 | Train Acc: 0.9684 | Val Loss: 0.3005 | Val Acc: 0.9040\n",
            "Epoch [76/105] | Train Loss: 0.0986 | Train Acc: 0.9661 | Val Loss: 0.3110 | Val Acc: 0.9044\n",
            "Epoch [77/105] | Train Loss: 0.0987 | Train Acc: 0.9662 | Val Loss: 0.3439 | Val Acc: 0.8976\n",
            "Epoch [78/105] | Train Loss: 0.0956 | Train Acc: 0.9686 | Val Loss: 0.3031 | Val Acc: 0.9047\n",
            "Epoch [79/105] | Train Loss: 0.0658 | Train Acc: 0.9792 | Val Loss: 0.2631 | Val Acc: 0.9199\n",
            "Epoch [80/105] | Train Loss: 0.0542 | Train Acc: 0.9844 | Val Loss: 0.2603 | Val Acc: 0.9207\n",
            "Epoch [81/105] | Train Loss: 0.0498 | Train Acc: 0.9852 | Val Loss: 0.2655 | Val Acc: 0.9203\n",
            "Epoch [82/105] | Train Loss: 0.0454 | Train Acc: 0.9873 | Val Loss: 0.2748 | Val Acc: 0.9186\n",
            "Epoch [83/105] | Train Loss: 0.0439 | Train Acc: 0.9878 | Val Loss: 0.2684 | Val Acc: 0.9174\n",
            "Epoch [84/105] | Train Loss: 0.0409 | Train Acc: 0.9887 | Val Loss: 0.2629 | Val Acc: 0.9213\n",
            "Epoch [85/105] | Train Loss: 0.0388 | Train Acc: 0.9896 | Val Loss: 0.2690 | Val Acc: 0.9172\n",
            "Epoch [86/105] | Train Loss: 0.0375 | Train Acc: 0.9901 | Val Loss: 0.2726 | Val Acc: 0.9196\n",
            "Epoch [87/105] | Train Loss: 0.0366 | Train Acc: 0.9898 | Val Loss: 0.2732 | Val Acc: 0.9200\n",
            "Epoch [88/105] | Train Loss: 0.0360 | Train Acc: 0.9905 | Val Loss: 0.2730 | Val Acc: 0.9193\n",
            "Epoch [89/105] | Train Loss: 0.0340 | Train Acc: 0.9910 | Val Loss: 0.2729 | Val Acc: 0.9206\n",
            "Epoch [90/105] | Train Loss: 0.0326 | Train Acc: 0.9915 | Val Loss: 0.2776 | Val Acc: 0.9187\n",
            "Epoch [91/105] | Train Loss: 0.0327 | Train Acc: 0.9911 | Val Loss: 0.2800 | Val Acc: 0.9187\n",
            "Epoch [92/105] | Train Loss: 0.0309 | Train Acc: 0.9918 | Val Loss: 0.2770 | Val Acc: 0.9193\n",
            "Epoch [93/105] | Train Loss: 0.0301 | Train Acc: 0.9928 | Val Loss: 0.2757 | Val Acc: 0.9212\n",
            "Epoch [94/105] | Train Loss: 0.0309 | Train Acc: 0.9923 | Val Loss: 0.2840 | Val Acc: 0.9171\n",
            "Epoch [95/105] | Train Loss: 0.0304 | Train Acc: 0.9921 | Val Loss: 0.2811 | Val Acc: 0.9209\n",
            "Epoch [96/105] | Train Loss: 0.0289 | Train Acc: 0.9928 | Val Loss: 0.2782 | Val Acc: 0.9211\n",
            "Epoch [97/105] | Train Loss: 0.0290 | Train Acc: 0.9927 | Val Loss: 0.2770 | Val Acc: 0.9207\n",
            "Epoch [98/105] | Train Loss: 0.0279 | Train Acc: 0.9929 | Val Loss: 0.2836 | Val Acc: 0.9183\n",
            "Epoch [99/105] | Train Loss: 0.0269 | Train Acc: 0.9935 | Val Loss: 0.2794 | Val Acc: 0.9189\n",
            "Epoch [100/105] | Train Loss: 0.0259 | Train Acc: 0.9937 | Val Loss: 0.2894 | Val Acc: 0.9190\n",
            "Epoch [101/105] | Train Loss: 0.0261 | Train Acc: 0.9936 | Val Loss: 0.2766 | Val Acc: 0.9207\n",
            "Epoch [102/105] | Train Loss: 0.0254 | Train Acc: 0.9941 | Val Loss: 0.2965 | Val Acc: 0.9175\n",
            "Epoch [103/105] | Train Loss: 0.0253 | Train Acc: 0.9937 | Val Loss: 0.2832 | Val Acc: 0.9231\n",
            "Epoch [104/105] | Train Loss: 0.0246 | Train Acc: 0.9943 | Val Loss: 0.2976 | Val Acc: 0.9163\n",
            "Epoch [105/105] | Train Loss: 0.0246 | Train Acc: 0.9938 | Val Loss: 0.2923 | Val Acc: 0.9163\n",
            "Test Loss: 0.3020 | Test Acc: 0.9202\n"
          ]
        },
        {
          "output_type": "display_data",
          "data": {
            "text/plain": [
              "<IPython.core.display.HTML object>"
            ],
            "text/html": []
          },
          "metadata": {}
        },
        {
          "output_type": "display_data",
          "data": {
            "text/plain": [
              "<IPython.core.display.HTML object>"
            ],
            "text/html": [
              "<br>    <style><br>        .wandb-row {<br>            display: flex;<br>            flex-direction: row;<br>            flex-wrap: wrap;<br>            justify-content: flex-start;<br>            width: 100%;<br>        }<br>        .wandb-col {<br>            display: flex;<br>            flex-direction: column;<br>            flex-basis: 100%;<br>            flex: 1;<br>            padding: 10px;<br>        }<br>    </style><br><div class=\"wandb-row\"><div class=\"wandb-col\"><h3>Run history:</h3><br/><table class=\"wandb\"><tr><td>epoch</td><td>▁▁▁▁▁▂▂▂▂▂▂▃▃▃▃▃▃▃▃▄▄▄▄▄▄▄▅▅▅▅▆▆▆▇▇▇████</td></tr><tr><td>learning_rate</td><td>█████████████████████▂▂▂▂▂▂▂▂▂▂▂▂▂▂▁▁▁▁▁</td></tr><tr><td>test_acc</td><td>▁</td></tr><tr><td>test_loss</td><td>▁</td></tr><tr><td>train_acc</td><td>▁▅▅▆▆▆▆▆▆▆▆▆▆▆▆▆▆▆▆▆▇▇██████████████████</td></tr><tr><td>train_loss</td><td>█▇▅▅▅▄▄▄▄▄▃▃▃▃▃▃▃▃▃▃▃▃▃▂▂▂▁▁▁▁▁▁▁▁▁▁▁▁▁▁</td></tr><tr><td>val_acc</td><td>▁▃▃▃▃▅▄▄▄▅▅▅▅▆▄▅████████████████████████</td></tr><tr><td>val_loss</td><td>█▇▅▆▅▄▅█▄▄▄▄▅▅▆▁▁▁▁▁▁▁▁▁▁▂▁▁▁▁▁▁▁▁▁▁▁▁▁▁</td></tr></table><br/></div><div class=\"wandb-col\"><h3>Run summary:</h3><br/><table class=\"wandb\"><tr><td>epoch</td><td>105</td></tr><tr><td>learning_rate</td><td>0.001</td></tr><tr><td>optimizer</td><td>sgd</td></tr><tr><td>test_acc</td><td>0.9202</td></tr><tr><td>test_loss</td><td>0.30197</td></tr><tr><td>train_acc</td><td>0.99382</td></tr><tr><td>train_loss</td><td>0.02462</td></tr><tr><td>val_acc</td><td>0.9163</td></tr><tr><td>val_loss</td><td>0.29232</td></tr></table><br/></div></div>"
            ]
          },
          "metadata": {}
        },
        {
          "output_type": "display_data",
          "data": {
            "text/plain": [
              "<IPython.core.display.HTML object>"
            ],
            "text/html": [
              " View run <strong style=\"color:#cdcd00\">lucky-lion-6</strong> at: <a href='https://wandb.ai/g22168559-vellore-institute-of-technology/cifar10_classification_Data_science_assignment_Tata_communication/runs/wgxixpiq' target=\"_blank\">https://wandb.ai/g22168559-vellore-institute-of-technology/cifar10_classification_Data_science_assignment_Tata_communication/runs/wgxixpiq</a><br> View project at: <a href='https://wandb.ai/g22168559-vellore-institute-of-technology/cifar10_classification_Data_science_assignment_Tata_communication' target=\"_blank\">https://wandb.ai/g22168559-vellore-institute-of-technology/cifar10_classification_Data_science_assignment_Tata_communication</a><br>Synced 5 W&B file(s), 0 media file(s), 0 artifact file(s) and 130 other file(s)"
            ]
          },
          "metadata": {}
        },
        {
          "output_type": "display_data",
          "data": {
            "text/plain": [
              "<IPython.core.display.HTML object>"
            ],
            "text/html": [
              "Find logs at: <code>./wandb/run-20250202_054954-wgxixpiq/logs</code>"
            ]
          },
          "metadata": {}
        }
      ]
    },
    {
      "cell_type": "code",
      "source": [
        "import torch\n",
        "\n",
        "# Initialize the model architecture (must match the saved model's architecture)\n",
        "model = get_resnet32_for_cifar10().to(device)\n",
        "\n",
        "\n",
        "model.load_state_dict(torch.load(\"/content/wgxixpiq_best_epoch_103_1738478116.pth\", map_location=device))\n",
        "model.eval()  # Set to evaluation mode\n",
        "\n",
        "print(\"Model successfully loaded and ready for predictions!\")\n"
      ],
      "metadata": {
        "colab": {
          "base_uri": "https://localhost:8080/"
        },
        "id": "4Uzn1wH-dDNH",
        "outputId": "b2c48159-5602-4811-86a6-815652612142"
      },
      "execution_count": 6,
      "outputs": [
        {
          "output_type": "stream",
          "name": "stdout",
          "text": [
            "Model successfully loaded and ready for predictions!\n"
          ]
        },
        {
          "output_type": "stream",
          "name": "stderr",
          "text": [
            "<ipython-input-6-38e180de7191>:7: FutureWarning: You are using `torch.load` with `weights_only=False` (the current default value), which uses the default pickle module implicitly. It is possible to construct malicious pickle data which will execute arbitrary code during unpickling (See https://github.com/pytorch/pytorch/blob/main/SECURITY.md#untrusted-models for more details). In a future release, the default value for `weights_only` will be flipped to `True`. This limits the functions that could be executed during unpickling. Arbitrary objects will no longer be allowed to be loaded via this mode unless they are explicitly allowlisted by the user via `torch.serialization.add_safe_globals`. We recommend you start setting `weights_only=True` for any use case where you don't have full control of the loaded file. Please open an issue on GitHub for any issues related to this experimental feature.\n",
            "  model.load_state_dict(torch.load(\"/content/wgxixpiq_best_epoch_103_1738478116.pth\", map_location=device))\n"
          ]
        }
      ]
    },
    {
      "cell_type": "code",
      "source": [
        "import torchvision\n",
        "import torchvision.transforms as transforms\n",
        "import torch\n",
        "\n",
        "\n",
        "transform_test = transforms.Compose([\n",
        "    transforms.ToTensor(),\n",
        "    transforms.Normalize((0.4914, 0.4822, 0.4465), (0.247, 0.243, 0.261))\n",
        "])\n",
        "\n",
        "\n",
        "test_dataset = torchvision.datasets.CIFAR10(root='./data', train=False, download=True, transform=transform_test)\n",
        "\n",
        "\n",
        "test_loader = torch.utils.data.DataLoader(test_dataset, batch_size=128, shuffle=False, num_workers=2)\n",
        "\n",
        "print(\" Test dataset loaded successfully!\")\n"
      ],
      "metadata": {
        "colab": {
          "base_uri": "https://localhost:8080/"
        },
        "id": "e4EGfYVqddLi",
        "outputId": "0eb19ab5-caf2-45eb-ad92-fe7374bd92ca"
      },
      "execution_count": 7,
      "outputs": [
        {
          "output_type": "stream",
          "name": "stdout",
          "text": [
            "Downloading https://www.cs.toronto.edu/~kriz/cifar-10-python.tar.gz to ./data/cifar-10-python.tar.gz\n"
          ]
        },
        {
          "output_type": "stream",
          "name": "stderr",
          "text": [
            "100%|██████████| 170M/170M [00:08<00:00, 21.0MB/s]\n"
          ]
        },
        {
          "output_type": "stream",
          "name": "stdout",
          "text": [
            "Extracting ./data/cifar-10-python.tar.gz to ./data\n",
            " Test dataset loaded successfully!\n"
          ]
        }
      ]
    },
    {
      "cell_type": "code",
      "source": [
        "#  CIFAR-10 class names\n",
        "cifar10_class_names = ['airplane', 'automobile', 'bird', 'cat', 'deer',\n",
        "                        'dog', 'frog', 'horse', 'ship', 'truck']\n",
        "\n",
        "# Run the prediction function\n",
        "visualize_predictions(model, test_loader, cifar10_class_names, num_images=5)\n"
      ],
      "metadata": {
        "colab": {
          "base_uri": "https://localhost:8080/",
          "height": 314
        },
        "id": "QyCto9dwdfk3",
        "outputId": "b5e18f32-b507-4a8f-dbad-e70660ed27aa"
      },
      "execution_count": 19,
      "outputs": [
        {
          "output_type": "display_data",
          "data": {
            "text/plain": [
              "<Figure size 1500x300 with 5 Axes>"
            ],
            "image/png": "[encoded data removed]"
          },
          "metadata": {}
        }
      ]
    },
    {
      "cell_type": "markdown",
      "source": [
        "# Analysis and Insights Report\n",
        "\n",
        "## 1. Overview\n",
        "This report analyzes the **CIFAR-10 classification task using ResNet-32**, trained across multiple experiments with different hyperparameters. The experiments were logged in **Weights & Biases (W&B)**, allowing a detailed comparison of training progress, model performance, and optimization strategies.\n",
        "\n",
        "### Key Performance Metrics:\n",
        "| Run Name          | Optimizer | Learning Rate | Epochs | Test Accuracy | Train Accuracy | Validation Accuracy |\n",
        "|------------------|-----------|--------------|--------|--------------|--------------|-------------------|\n",
        "| lucky-lion-6     | SGD       | 0.1          | 105    | 92.02%       | 99.38%       | 91.63%            |\n",
        "| sage-brook-5     | SGD       | 0.0005       | 20     | 71.14%       | 75.24%       | 71.80%            |\n",
        "| gallant-deluge-4 | SGD       | 0.001        | 10     | 70.22%       | 79.26%       | 69.97%            |\n",
        "| rare-leaf-3      | Adam      | 0.0001       | 15     | 74.35%       | 76.75%       | 73.81%            |\n",
        "| wobbly-snowflake-2 | Adam    | 0.5          | 10     | 10.23%       | 11.13%       | 10.23%            |\n",
        "| restful-river-1  | Adam      | 0.001        | 10     | 78.25%       | 81.25%       | 78.00%            |\n",
        "\n",
        "---\n",
        "\n",
        "## 2. Experiment Comparisons Using W&B Dashboards\n",
        "### Key Observations from W&B Graphs:\n",
        "- Higher learning rates (0.5) led to unstable training, as seen in `wobbly-snowflake-2` with only 10% accuracy.\n",
        "- SGD with LR scheduling (`lucky-lion-6`) showed the best performance with a final test accuracy of **92.02%**.\n",
        "- Adam optimizer resulted in smooth but slightly lower convergence, peaking at **78.25% accuracy** in `restful-river-1`.\n",
        "- The model required at least 100 epochs for optimal performance; shorter runs underperformed.\n",
        "\n",
        "---\n",
        "\n",
        "## 3. How Hyperparameters Affected Performance\n",
        "\n",
        "### Learning Rate (LR) Impact:\n",
        "- Best LR: **0.1 (with decay at epochs 50 & 75)** → Faster convergence, optimal test accuracy.\n",
        "- Worst LR: **0.5** → Highly unstable training, poor generalization (Test Accuracy = **10.23%**).\n",
        "\n",
        "### Optimizer Comparison: SGD vs. Adam\n",
        "- SGD (with momentum) outperformed Adam over long runs.\n",
        "- Adam performed well for quick convergence but plateaued at ~78% accuracy.\n",
        "\n",
        "### Effect of Training Epochs:\n",
        "- **10-20 epochs were insufficient** for high accuracy (>90%).\n",
        "- **100+ epochs improved generalization**, especially for SGD.\n",
        "\n",
        "---\n",
        "\n",
        "## 4. Best Experiment & Why?\n",
        "### Best Performing Run: `lucky-lion-6`\n",
        "- **Optimizer:** SGD (Momentum = 0.9)\n",
        "- **Learning Rate:** 0.1 (decayed at 50 & 75 epochs)\n",
        "- **Epochs:** 105\n",
        "- **Test Accuracy:** 92.02%\n",
        "- **Validation Accuracy:** 91.63%\n",
        "\n",
        "### Why was it the best?\n",
        "- Effective Learning Rate Scheduling: Allowed controlled optimization.\n",
        "- SGD with momentum stabilized gradients, reducing noise.\n",
        "- Longer training (105 epochs) provided optimal feature learning.\n",
        "\n",
        "---\n",
        "\n",
        "## 5. Summary & Final Insights\n",
        "- **SGD with momentum outperforms Adam in longer runs.**  \n",
        "- **High learning rates without scheduling result in poor performance.**  \n",
        "- **Longer training (100+ epochs) is crucial for optimal accuracy.**  \n",
        "- **Best accuracy achieved = 92.02% using SGD + LR scheduler (`lucky-lion-6`).**  \n",
        "\n",
        "This experiment successfully optimized CIFAR-10 classification using ResNet-32 and W&B for tracking.\n"
      ],
      "metadata": {
        "id": "ooRV5PhO14Nz"
      }
    },
    {
      "cell_type": "code",
      "source": [],
      "metadata": {
        "id": "7Mhbyb3xdvQu"
      },
      "execution_count": null,
      "outputs": []
    }
  ]
}